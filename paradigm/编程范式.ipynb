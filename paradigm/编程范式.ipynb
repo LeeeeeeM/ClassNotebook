{
 "cells": [
  {
   "cell_type": "markdown",
   "metadata": {},
   "source": [
    "# 编程范式与编程语言"
   ]
  },
  {
   "cell_type": "markdown",
   "metadata": {},
   "source": [
    "> ASP,JSP,HTML,XML，CSS,RSS是什么？\n",
    "* ASP,JSP实在静态网页中植入的能在服务端运行的代码，本身并非新语言，称之为模板（一直类库）更加适合\n",
    "* HTML,XML均为SGML（standard generalized markup language），属于标记语言（Markup language）。本质上是数据格式标准（如CSV,JSON）。\n",
    "* CSS是样式语言（Stylesheet Language），将传统HTML中的样式逻辑提炼用以丰富以及简化HTML。\n",
    "\n",
    "> 什么是DSL\n",
    "* Domain Specific Language，简称DSL。并非通用编程语言，专门做数据库错做的SQL语言，统计分析专用的SAS，SPSS就属于DSL。\n"
   ]
  },
  {
   "cell_type": "markdown",
   "metadata": {},
   "source": [
    "## 范式\n",
    "### 初识\n",
    "> 库，框架，包都是代码的集合，他们的区别何在？\n",
    "库和工具包提供武器，而框架则利用反转控制机制实现模块的统一调度。最典型的案例就是许多ORM框架中的schemas模块，通过调用用户的代码来形成表结构。\n",
    "* 常有人说框架的开发是程序设计中最甜的那部分\n"
   ]
  },
  {
   "cell_type": "code",
   "execution_count": null,
   "metadata": {},
   "outputs": [],
   "source": []
  }
 ],
 "metadata": {
  "kernelspec": {
   "display_name": "Julia 1.4.2",
   "language": "julia",
   "name": "julia-1.4"
  },
  "language_info": {
   "file_extension": ".jl",
   "mimetype": "application/julia",
   "name": "julia",
   "version": "1.4.2"
  }
 },
 "nbformat": 4,
 "nbformat_minor": 4
}
