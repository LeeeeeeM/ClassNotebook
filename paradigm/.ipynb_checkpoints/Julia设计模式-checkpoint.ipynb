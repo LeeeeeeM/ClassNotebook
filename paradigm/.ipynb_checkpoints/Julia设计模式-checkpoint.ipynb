{
 "cells": [
  {
   "cell_type": "markdown",
   "metadata": {},
   "source": [
    "# Julia设计模式\n",
    "* 复用性模式\n",
    "    * 代表团模式\n",
    "    * 神圣特性模式\n",
    "    * parametric type pattern\n",
    " "
   ]
  },
  {
   "cell_type": "markdown",
   "metadata": {},
   "source": [
    "### The parametric type pattern\n",
    "参数化类型是一个语言用参数具象化数据的一个核心特性。"
   ]
  },
  {
   "cell_type": "markdown",
   "metadata": {},
   "source": [
    "## 性能模式\n",
    "Julia编程语言能让我们充分地调用CPU的资源，只要遵守一些规则，我们就能让程序的运行速度更加快速。\n",
    "以下是性能模式列表：\n",
    "* Global constant\n",
    "* Struct of arrays\n",
    "* Shared arrays\n",
    "* Memoization\n",
    "* Barrier function\n",
    "\n",
    "同样我在网络上找到了一篇讲述如何优化julia运行性能的文章，大家可以去参考一下：https://techytok.com/code-optimisation-in-julia/\n",
    "\n",
    "那么开始吧~"
   ]
  },
  {
   "cell_type": "markdown",
   "metadata": {},
   "source": [
    "### 全局常数模式\n",
    "Julia中，变量要不在全局作用域要不就在局部作用域。\n",
    "模块顶层中的所有被声明的变量都是全局变量。而函数中声明的变量则是局部的。一般来说，假设一个应用程序调用了外部系统的一个对象，我们不妨称外部对象为handler，那么在程序中，我们会初始化handler为全局变量，因为这样做，外部模块中的所有函数都能够被直接访问。。这是一个便利的因素。\n",
    "\n",
    "然而，全局变量的声明必然伴随着性能的损失，这会影响到整个程序的性能。所以如何正确地声明全局变量算是门学问。\n",
    "\n",
    "下面让我们来看看使用全局变量会对性能造成怎样的损失"
   ]
  },
  {
   "cell_type": "code",
   "execution_count": 2,
   "metadata": {},
   "outputs": [
    {
     "name": "stderr",
     "output_type": "stream",
     "text": [
      "┌ Info: Precompiling BenchmarkTools [6e4b80f9-dd63-53aa-95a3-0cdb28fa8baf]\n",
      "└ @ Base loading.jl:1260\n"
     ]
    },
    {
     "data": {
      "text/plain": [
       "add_using_global_variable (generic function with 1 method)"
      ]
     },
     "execution_count": 2,
     "metadata": {},
     "output_type": "execute_result"
    }
   ],
   "source": [
    "using BenchmarkTools\n",
    "\n",
    "variable = 10\n",
    "\n",
    "function add_using_global_variable(x)\n",
    "    return x + variable\n",
    "end"
   ]
  },
  {
   "cell_type": "code",
   "execution_count": 3,
   "metadata": {},
   "outputs": [
    {
     "name": "stdout",
     "output_type": "stream",
     "text": [
      "  23.169 ns (0 allocations: 0 bytes)\n"
     ]
    }
   ],
   "source": [
    "@btime add_using_global_variable(10);"
   ]
  },
  {
   "cell_type": "code",
   "execution_count": 4,
   "metadata": {},
   "outputs": [
    {
     "data": {
      "text/plain": [
       "add_using_function_arg (generic function with 1 method)"
      ]
     },
     "execution_count": 4,
     "metadata": {},
     "output_type": "execute_result"
    }
   ],
   "source": [
    "# 不引用全局变量进行对比\n",
    "function add_using_function_arg(x, y)\n",
    "    return x + y\n",
    "end"
   ]
  },
  {
   "cell_type": "code",
   "execution_count": 5,
   "metadata": {},
   "outputs": [
    {
     "name": "stdout",
     "output_type": "stream",
     "text": [
      "  0.001 ns (0 allocations: 0 bytes)\n"
     ]
    }
   ],
   "source": [
    "@btime add_using_function_arg(10, 10);"
   ]
  },
  {
   "cell_type": "markdown",
   "metadata": {},
   "source": [
    "unbelievable！快了多少倍呀这~\n",
    "\n",
    "那同学们一定想探索本源，看看为何会快这么多，这么想是对的，因为只有这样做咱们的印象才会深刻。由于Julia是LLVM即时编译的，所以我们可以用内建内省工具**introspection**来看生成的LLVM代码。"
   ]
  },
  {
   "cell_type": "code",
   "execution_count": 6,
   "metadata": {},
   "outputs": [
    {
     "name": "stdout",
     "output_type": "stream",
     "text": [
      "\n",
      ";  @ In[4]:3 within `add_using_function_arg'\n",
      "; Function Attrs: uwtable\n",
      "define i64 @julia_add_using_function_arg_17964(i64, i64) #0 {\n",
      "top:\n",
      "; ┌ @ int.jl:53 within `+'\n",
      "   %2 = add i64 %1, %0\n",
      "; └\n",
      "  ret i64 %2\n",
      "}\n"
     ]
    }
   ],
   "source": [
    "@code_llvm add_using_function_arg(10, 10)"
   ]
  },
  {
   "cell_type": "code",
   "execution_count": 7,
   "metadata": {},
   "outputs": [
    {
     "name": "stdout",
     "output_type": "stream",
     "text": [
      "\n",
      ";  @ In[2]:6 within `add_using_global_variable'\n",
      "; Function Attrs: uwtable\n",
      "define nonnull %jl_value_t addrspace(10)* @julia_add_using_global_variable_17874(i64) #0 {\n",
      "top:\n",
      "  %1 = alloca %jl_value_t addrspace(10)*, i32 2\n",
      "  %gcframe = alloca %jl_value_t addrspace(10)*, i32 4, align 16\n",
      "  %2 = bitcast %jl_value_t addrspace(10)** %gcframe to i8*\n",
      "  call void @llvm.memset.p0i8.i32(i8* align 16 %2, i8 0, i32 32, i1 false)\n",
      "  %3 = call %jl_value_t*** inttoptr (i64 1720670528 to %jl_value_t*** ()*)() #6\n",
      "  %4 = getelementptr %jl_value_t addrspace(10)*, %jl_value_t addrspace(10)** %gcframe, i32 0\n",
      "  %5 = bitcast %jl_value_t addrspace(10)** %4 to i64*\n",
      "  store i64 8, i64* %5\n",
      "  %6 = getelementptr %jl_value_t**, %jl_value_t*** %3, i32 0\n",
      "  %7 = getelementptr %jl_value_t addrspace(10)*, %jl_value_t addrspace(10)** %gcframe, i32 1\n",
      "  %8 = bitcast %jl_value_t addrspace(10)** %7 to %jl_value_t***\n",
      "  %9 = load %jl_value_t**, %jl_value_t*** %6\n",
      "  store %jl_value_t** %9, %jl_value_t*** %8\n",
      "  %10 = bitcast %jl_value_t*** %6 to %jl_value_t addrspace(10)***\n",
      "  store %jl_value_t addrspace(10)** %gcframe, %jl_value_t addrspace(10)*** %10\n",
      "  %11 = load %jl_value_t addrspace(10)*, %jl_value_t addrspace(10)** inttoptr (i64 791093240 to %jl_value_t addrspace(10)**), align 8\n",
      "  %12 = getelementptr %jl_value_t addrspace(10)*, %jl_value_t addrspace(10)** %gcframe, i32 2\n",
      "  store %jl_value_t addrspace(10)* %11, %jl_value_t addrspace(10)** %12\n",
      "  %13 = call %jl_value_t addrspace(10)* @jl_box_int64(i64 signext %0)\n",
      "  %14 = getelementptr %jl_value_t addrspace(10)*, %jl_value_t addrspace(10)** %gcframe, i32 3\n",
      "  store %jl_value_t addrspace(10)* %13, %jl_value_t addrspace(10)** %14\n",
      "  %15 = getelementptr %jl_value_t addrspace(10)*, %jl_value_t addrspace(10)** %1, i32 0\n",
      "  store %jl_value_t addrspace(10)* %13, %jl_value_t addrspace(10)** %15\n",
      "  %16 = getelementptr %jl_value_t addrspace(10)*, %jl_value_t addrspace(10)** %1, i32 1\n",
      "  store %jl_value_t addrspace(10)* %11, %jl_value_t addrspace(10)** %16\n",
      "  %17 = call nonnull %jl_value_t addrspace(10)* @jl_apply_generic(%jl_value_t addrspace(10)* addrspacecast (%jl_value_t* inttoptr (i64 190125408 to %jl_value_t*) to %jl_value_t addrspace(10)*), %jl_value_t addrspace(10)** %1, i32 2)\n",
      "  %18 = getelementptr %jl_value_t addrspace(10)*, %jl_value_t addrspace(10)** %gcframe, i32 1\n",
      "  %19 = load %jl_value_t addrspace(10)*, %jl_value_t addrspace(10)** %18\n",
      "  %20 = getelementptr %jl_value_t**, %jl_value_t*** %3, i32 0\n",
      "  %21 = bitcast %jl_value_t*** %20 to %jl_value_t addrspace(10)**\n",
      "  store %jl_value_t addrspace(10)* %19, %jl_value_t addrspace(10)** %21\n",
      "  ret %jl_value_t addrspace(10)* %17\n",
      "}\n"
     ]
    }
   ],
   "source": [
    "# 可以看到上面的生成的代码只有add一个指令，再来看一下另一个慢的生成的丑陋的代码\n",
    "# 前方高能,可不要被吓着哦~\n",
    "@code_llvm add_using_global_variable(10)"
   ]
  },
  {
   "cell_type": "markdown",
   "metadata": {},
   "source": [
    "。。。怎么样，有没有被吓到。\n",
    "简单来说，为什么会生成那么多代码呢，是因为我们声明的是变量，变量随时能够变化，这意味着编译器必须生成能够处理任意数据类型的代码才能stay on the safe side。\n",
    "所以还是那句话，灵活性本身必定伴随着巨大的开销。\n",
    "问题怎么解决？很显然，定义常量，让我们来测试一波吧~"
   ]
  },
  {
   "cell_type": "code",
   "execution_count": 8,
   "metadata": {},
   "outputs": [
    {
     "data": {
      "text/plain": [
       "add_using_global_constant (generic function with 1 method)"
      ]
     },
     "execution_count": 8,
     "metadata": {},
     "output_type": "execute_result"
    }
   ],
   "source": [
    "const constant = 10\n",
    "\n",
    "function add_using_global_constant(x)\n",
    "    return constant + x\n",
    "end"
   ]
  },
  {
   "cell_type": "code",
   "execution_count": 9,
   "metadata": {},
   "outputs": [
    {
     "name": "stdout",
     "output_type": "stream",
     "text": [
      "  0.001 ns (0 allocations: 0 bytes)\n"
     ]
    }
   ],
   "source": [
    "@btime add_using_global_constant(10);"
   ]
  },
  {
   "cell_type": "markdown",
   "metadata": {},
   "source": [
    "话又说回来了，我们有时候无可避免地需要定义变量，那怎样做可以提升使用变量时的性能呢？\n",
    "\n",
    "**答： 标注类型信息**\n",
    "\n",
    "注意，Julia中全局变量还不支持使用类型声明的方法，因此我们需要在函数定义中去声明。"
   ]
  },
  {
   "cell_type": "code",
   "execution_count": 10,
   "metadata": {},
   "outputs": [
    {
     "data": {
      "text/plain": [
       "add_using_global_variable_typed (generic function with 1 method)"
      ]
     },
     "execution_count": 10,
     "metadata": {},
     "output_type": "execute_result"
    }
   ],
   "source": [
    "function add_using_global_variable_typed(x)\n",
    "    return x + variable::Int\n",
    "end\n"
   ]
  },
  {
   "cell_type": "code",
   "execution_count": 11,
   "metadata": {},
   "outputs": [
    {
     "name": "stdout",
     "output_type": "stream",
     "text": [
      "  4.999 ns (0 allocations: 0 bytes)\n"
     ]
    }
   ],
   "source": [
    "variable = 10\n",
    "\n",
    "@btime add_using_global_variable_typed(10);"
   ]
  },
  {
   "cell_type": "markdown",
   "metadata": {},
   "source": [
    "下面演示一个全局变量的优化方法——“**全局变量占位符（global variable placeholder）**”\n",
    "\n",
    "Julia的代码会被Julia编译器拿去进行优化，所以我们可以使用常量占位符来存储具体的值。"
   ]
  },
  {
   "cell_type": "code",
   "execution_count": 12,
   "metadata": {},
   "outputs": [
    {
     "name": "stdout",
     "output_type": "stream",
     "text": [
      "  0.001 ns (0 allocations: 0 bytes)\n"
     ]
    },
    {
     "data": {
      "text/plain": [
       "20"
      ]
     },
     "execution_count": 12,
     "metadata": {},
     "output_type": "execute_result"
    }
   ],
   "source": [
    "const semi_constant = Ref(10)\n",
    "\n",
    "function add_using_global_semi_constant(x)\n",
    "    return x + semi_constant[]\n",
    "end\n",
    "\n",
    "# to fetch the value inside a Red object，we can just use index operator with no argument.\n",
    "@btime add_using_global_constant(10)"
   ]
  },
  {
   "cell_type": "code",
   "execution_count": 13,
   "metadata": {},
   "outputs": [
    {
     "data": {
      "text/plain": [
       "20"
      ]
     },
     "execution_count": 13,
     "metadata": {},
     "output_type": "execute_result"
    }
   ],
   "source": [
    "# 这个常量是可以进行更改的，所以可以模拟为变量\n",
    "semi_constant[] = 20"
   ]
  },
  {
   "cell_type": "code",
   "execution_count": 14,
   "metadata": {},
   "outputs": [
    {
     "data": {
      "text/plain": [
       "Base.RefValue{Array{Int64,1}}([1])"
      ]
     },
     "execution_count": 14,
     "metadata": {},
     "output_type": "execute_result"
    }
   ],
   "source": [
    "const list = Ref([1])\n",
    "list"
   ]
  },
  {
   "cell_type": "code",
   "execution_count": 15,
   "metadata": {},
   "outputs": [
    {
     "data": {
      "text/plain": [
       "1-element Array{Int64,1}:\n",
       " 1"
      ]
     },
     "execution_count": 15,
     "metadata": {},
     "output_type": "execute_result"
    }
   ],
   "source": [
    "list[]"
   ]
  },
  {
   "cell_type": "code",
   "execution_count": 17,
   "metadata": {},
   "outputs": [
    {
     "data": {
      "text/plain": [
       "2-element Array{Int64,1}:\n",
       " 1\n",
       " 2"
      ]
     },
     "execution_count": 17,
     "metadata": {},
     "output_type": "execute_result"
    }
   ],
   "source": [
    "list[] = [1, 2]"
   ]
  },
  {
   "cell_type": "markdown",
   "metadata": {},
   "source": [
    "### 数组结构模式\n",
    "如何高效地利用CPU，希望通过下面的例子进行讲解。这个文件所在的目录下有一份纽约市计程车的CSV数据，具体的format可以打开来查看。现在我们希望将CSV里的数据转入Julia变量中，并用struct进行封装。\n",
    "\n",
    "我们首先使用CSV.jl定义一个读取表的函数："
   ]
  },
  {
   "cell_type": "code",
   "execution_count": 25,
   "metadata": {},
   "outputs": [],
   "source": [
    "struct TripPayment\n",
    "    vendor_id::String\n",
    "    tpep_pickup_datetime::String\n",
    "    tpep_dropoff_datetime::String\n",
    "    passenger_count::Int\n",
    "    trip_distance::Float64\n",
    "    fare_amount::Float64\n",
    "    extra::Float64\n",
    "    mta_tax::Float64\n",
    "    tip_amount::Float64\n",
    "    tolls_amount::Float64\n",
    "    improvement_surcharge::Float64\n",
    "    total_amount::Float64\n",
    "end"
   ]
  },
  {
   "cell_type": "code",
   "execution_count": 19,
   "metadata": {},
   "outputs": [
    {
     "data": {
      "text/plain": [
       "read_trip_payment_file (generic function with 1 method)"
      ]
     },
     "execution_count": 19,
     "metadata": {},
     "output_type": "execute_result"
    }
   ],
   "source": [
    "# 此处的datarow = 3代表\n",
    "function read_trip_payment_file(file)\n",
    "    f = CSV.File(file, datarow = 3)\n",
    "    records = Vector{TripPayment}(undef, length(f))\n",
    "    for (i, row) in enumerate(f)\n",
    "        records[i] = TripPayment(row.VendorID,\n",
    "            row.tpep_pickup_datetime,\n",
    "            row.tpep_dropoff_datetime,\n",
    "            row.passenger_count,\n",
    "            row.trip_distance,\n",
    "            row.fare_amount,\n",
    "            row.extra,\n",
    "            row.mta_tax,\n",
    "            row.tip_amount,\n",
    "            row.tolls_amount,\n",
    "            row.improvement_surcharge,\n",
    "            row.total_amount)\n",
    "    end\n",
    "    return records\n",
    "end"
   ]
  },
  {
   "cell_type": "code",
   "execution_count": 24,
   "metadata": {},
   "outputs": [
    {
     "ename": "MethodError",
     "evalue": "MethodError: Cannot `convert` an object of type Int64 to an object of type String\nClosest candidates are:\n  convert(::Type{String}, !Matched::FilePathsBase.AbstractPath) at C:\\Users\\pp\\.julia\\packages\\FilePathsBase\\n76Ka\\src\\path.jl:83\n  convert(::Type{String}, !Matched::CategoricalArrays.CategoricalValue) at C:\\Users\\pp\\.julia\\packages\\CategoricalArrays\\0ZAbp\\src\\value.jl:60\n  convert(::Type{String}, !Matched::WeakRefStrings.WeakRefString) at C:\\Users\\pp\\.julia\\packages\\WeakRefStrings\\lqf5B\\src\\WeakRefStrings.jl:79\n  ...",
     "output_type": "error",
     "traceback": [
      "MethodError: Cannot `convert` an object of type Int64 to an object of type String\nClosest candidates are:\n  convert(::Type{String}, !Matched::FilePathsBase.AbstractPath) at C:\\Users\\pp\\.julia\\packages\\FilePathsBase\\n76Ka\\src\\path.jl:83\n  convert(::Type{String}, !Matched::CategoricalArrays.CategoricalValue) at C:\\Users\\pp\\.julia\\packages\\CategoricalArrays\\0ZAbp\\src\\value.jl:60\n  convert(::Type{String}, !Matched::WeakRefStrings.WeakRefString) at C:\\Users\\pp\\.julia\\packages\\WeakRefStrings\\lqf5B\\src\\WeakRefStrings.jl:79\n  ...",
      "",
      "Stacktrace:",
      " [1] TripPayment(::Int64, ::String, ::String, ::Int64, ::Float64, ::Float64, ::Float64, ::Float64, ::Float64, ::Float64, ::Float64, ::Float64) at .\\In[18]:2",
      " [2] read_trip_payment_file(::String) at .\\In[19]:5",
      " [3] top-level scope at In[24]:2"
     ]
    }
   ],
   "source": [
    "import CSV\n",
    "read_trip_payment_file(\"tripdata.csv\")"
   ]
  },
  {
   "cell_type": "code",
   "execution_count": null,
   "metadata": {},
   "outputs": [],
   "source": []
  }
 ],
 "metadata": {
  "kernelspec": {
   "display_name": "Julia 1.4.2",
   "language": "julia",
   "name": "julia-1.4"
  },
  "language_info": {
   "file_extension": ".jl",
   "mimetype": "application/julia",
   "name": "julia",
   "version": "1.4.2"
  }
 },
 "nbformat": 4,
 "nbformat_minor": 4
}
