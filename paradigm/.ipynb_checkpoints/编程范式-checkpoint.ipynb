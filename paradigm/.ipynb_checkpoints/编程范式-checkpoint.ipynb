{
 "cells": [
  {
   "cell_type": "markdown",
   "metadata": {},
   "source": [
    "# 编程范式与编程语言"
   ]
  },
  {
   "cell_type": "markdown",
   "metadata": {},
   "source": [
    "> ASP,JSP,HTML,XML，CSS,RSS是什么？\n",
    "* ASP,JSP实在静态网页中植入的能在服务端运行的代码，本身并非新语言，称之为模板（一直类库）更加适合\n",
    "* HTML,XML均为SGML（standard generalized markup language），属于标记语言（Markup language）。本质上是数据格式标准（如CSV,JSON）。\n",
    "* CSS是样式语言（Stylesheet Language），将传统HTML中的样式逻辑提炼用以丰富以及简化HTML。\n",
    "\n",
    "> 什么是DSL\n",
    "* Domain Specific Language，简称DSL。并非通用编程语言，专门做数据库错做的SQL语言，统计分析专用的SAS，SPSS就属于DSL。\n"
   ]
  },
  {
   "cell_type": "markdown",
   "metadata": {},
   "source": [
    "## 范式\n",
    "### 初识\n",
    "> 库，框架，包都是代码的集合，他们的区别何在？\n",
    "库和工具包提供武器，而框架则利用反转控制机制实现模块的统一调度。最典型的案例就是许多ORM框架中的schemas模块，通过调用用户的代码来形成表结构。\n",
    "* 常有人说框架的开发是程序设计中最甜的那部分\n"
   ]
  },
  {
   "cell_type": "markdown",
   "metadata": {},
   "source": [
    "* 设计模式和架构是软件思想。设计模式是针对某些经常出现的问题而提出的行之有效的设计解决方案。与之类似的还有惯用法（idiom），其偏重实现而非设计。\n",
    "* 而架构，一般指一个软件系统的整体结构和规划。\n",
    "* 5个最重要的编程范式：命令式，函数式，逻辑式，对象式，并发式。\n",
    "\n",
    "### 编程范式的介绍\n",
    "* 冯诺伊曼机的抽象\n",
    "* **依序**从内存中获取指令和数据，然后执行。\n",
    "* 过程式编程：引入了过程（procedure）,函数（function）以及子程序（subprogram）的命令式编程的命令式编程。\n",
    "* goto语句可以使程序跳转到程序中的任一点，造成静态程序和动态进程之间的差异，影响可读性，需要极力避免。\n",
    "* 所谓结构化编程，采用的是“自顶向下”的设计，通过模块化方法将较为复杂的系统分解为相对简单的若干子系统，实现编码。\n",
    "* 声明式编程出自人工智能的研究，包括函数式编程和逻辑式编程。函数式编程计算描述为数学函数的求值。\n",
    "* 大多数软件是面向用户的，交互性强，为事件驱动，业务逻辑千差万别，在这种背景下，命令式语言的应用场景更多（现阶段）。\n",
    "\n",
    "### OOP\n",
    "* OOP能出现在任意的范式中（命令，函数，逻辑），纯粹的OOP是不存在的。\n",
    "* OOP适用于大型复杂，交互式的系统。\n",
    "* 并不是说可重用性就要与OOP的优势划等号。以C语言为例，信息隐藏可用关键字static来实现；集成可以用合成来代替；而多态可以用函数指针来实现。这些都只是手段而并非目的。\n",
    "* 只要设计合理，C程序同样具有可维护性，可扩展性以及可重用性。性能效率更加优越。\n",
    "* WIN32 API,UNIX API等操作系统接口，函数参数动辄十个，函数名和数据结构成员也是冗长晦涩；另一方面，C函数本身不具备状态，OOP本身在易用性超越非OOP。\n",
    "\n",
    "### 并发范式\n",
    "* 随着硬件性能和用户需求的双重提升，并发已经成为继OOP之后的又一场思想技术革命。\n",
    "* 并发范式对现实的模拟：程序设计围绕着进程的划分与调度，进程间的通信与同步进行展开。\n",
    "* 一直存在一个问题：究竟是在语言级别上支持并发，还是交由操作系统进行处理。\n",
    "\n"
   ]
  },
  {
   "cell_type": "code",
   "execution_count": null,
   "metadata": {},
   "outputs": [],
   "source": []
  }
 ],
 "metadata": {
  "kernelspec": {
   "display_name": "Julia 1.4.2",
   "language": "julia",
   "name": "julia-1.4"
  },
  "language_info": {
   "file_extension": ".jl",
   "mimetype": "application/julia",
   "name": "julia",
   "version": "1.4.2"
  }
 },
 "nbformat": 4,
 "nbformat_minor": 4
}
