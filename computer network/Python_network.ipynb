{
 "cells": [
  {
   "cell_type": "markdown",
   "metadata": {},
   "source": [
    "## Python socket\n",
    "之前实现redis-like数据库的网络层时使用过py的socket库\n",
    "像flask, django, fastapi这样的三方库很多，所以要建起一个简易的网络后台是很简单的，但这些第三方工具最核心的依赖都是socket标准库。\n",
    "\n",
    "这个模块通过原生sockets暴露了写TCP和UDP后台所需要的接口，"
   ]
  },
  {
   "cell_type": "markdown",
   "metadata": {},
   "source": [
    "## UDP\n",
    "IP协议负责将数据包传输至正确的机器，而需要维护一个会话，还需要两个额外的特性。\n",
    "* 需要为大量数据包打上标签，多路复用。\n",
    "* 修护传输过程中遇到的任何错误，可靠传输。\n",
    "\n",
    "UDP协议只解决了第一个问题。通过提供端口号对不同的网络会话进行隔离，而UDP协议仍然需要自己处理丢包，重包和包的乱序问题。而TCP协议还保证了数据流的顺序以及可靠传输，在接收端会对传输过来的数据包进行重组。\n",
    "\n",
    "这一部分，讲UDP主要是为了熟悉多路复用。\n",
    "\n",
    "计算机网络和电磁信号理论中，对共享同一通信信道的多个信号进行区分是个常见的问题。多路复用就是允许多个会话共享同一介质或机制的一种解决方案。UDP的方案是为每个UDP数据包分配一对无符号16位端口号，其范围从0~65536。\n",
    "\n",
    "IP网络层上，唯一可见的是：\n",
    "Source IP -> Destination IP\n",
    "\n",
    "而UDP则是：\n",
    "Source IP: port number -> Destination IP: port number\n",
    "\n",
    "假设请求机对目标机进行一次请求，没有显示表明端口号，操作系统则会为该查询随机分配一个端口号。无论是windows系统还是POSIX系统，其网络操作相关的系统调用都是围绕着socket这一概念进行的。如下是一个简单的UDP服务器以及UDP客户端。"
   ]
  },
  {
   "cell_type": "markdown",
   "metadata": {},
   "source": [
    "```python\n",
    "\n",
    "# 该脚本简单定义了一个UDP脚本，请在cmd或shell下执行\n",
    "\n",
    "import argparse, socket\n",
    "from datetime import datetime\n",
    "\n",
    "MAX_BYTES = 65535\n",
    "\n",
    "def server(port):\n",
    "    # 此处SOCK_DGRAM代表在IP网络上使用UDP协议\n",
    "    sock = socket.socket(socket.AF_INET, socket.SOCK_DGRAM)\n",
    "    # 套接字请求绑定一个UDP网络地址\n",
    "    sock.bind(('127.0.0.1', port))\n",
    "    print('Listening at {}'.format(sock.getsockname()))\n",
    "    while True:\n",
    "        data, address = sock.recvfrom(MAX_BYTES)\n",
    "        text = data.decode('ascii')\n",
    "        print('The client at {} says {!r}'.format(address, text))\n",
    "        text = 'Your data was {} bytes long'.format(len(data))\n",
    "        data = text.encode('ascii')\n",
    "        sock.sendto(data, address)\n",
    "\n",
    "def client(port):\n",
    "    sock = socket.socket(socket.AF_INET, socket.SOCK_DGRAM)\n",
    "    text = 'The time is {}'.format(datetime.now())\n",
    "    data = text.encode('ascii')\n",
    "    sock.sendto(data, ('127.0.0.1', port))\n",
    "    print('The OS assigned me the address {}'.format(sock.getsockname()))\n",
    "    data, address = sock.recvfrom(MAX_BYTES)  # Danger! See Chapter 2\n",
    "    text = data.decode('ascii')\n",
    "    print('The server {} replied {!r}'.format(address, text))\n",
    "\n",
    "if __name__ == '__main__':\n",
    "    choices = {'client': client, 'server': server}\n",
    "    parser = argparse.ArgumentParser(description='Send and receive UDP locally')\n",
    "    parser.add_argument('role', choices=choices, help='which role to play')\n",
    "    parser.add_argument('-p', metavar='PORT', type=int, default=1060,\n",
    "                        help='UDP port (default 1060)')\n",
    "    args = parser.parse_args()\n",
    "    function = choices[args.role]\n",
    "    function(args.p)\n",
    "    \n",
    "```"
   ]
  },
  {
   "cell_type": "code",
   "execution_count": null,
   "metadata": {},
   "outputs": [],
   "source": []
  }
 ],
 "metadata": {
  "kernelspec": {
   "display_name": "Python 3",
   "language": "python",
   "name": "python3"
  },
  "language_info": {
   "codemirror_mode": {
    "name": "ipython",
    "version": 3
   },
   "file_extension": ".py",
   "mimetype": "text/x-python",
   "name": "python",
   "nbconvert_exporter": "python",
   "pygments_lexer": "ipython3",
   "version": "3.7.6"
  }
 },
 "nbformat": 4,
 "nbformat_minor": 4
}
