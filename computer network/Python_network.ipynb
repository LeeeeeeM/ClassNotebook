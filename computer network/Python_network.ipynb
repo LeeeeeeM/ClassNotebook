{
 "cells": [
  {
   "cell_type": "markdown",
   "metadata": {},
   "source": [
    "## Python socket\n",
    "之前实现redis-like数据库的网络层时使用过py的socket库\n",
    "像flask, django, fastapi这样的三方库很多，所以要建起一个简易的网络后台是很简单的，但这些第三方工具最核心的依赖都是socket标准库。\n",
    "\n",
    "这个模块通过原生sockets暴露了写TCP和UDP后台所需要的接口，"
   ]
  },
  {
   "cell_type": "code",
   "execution_count": null,
   "metadata": {},
   "outputs": [],
   "source": []
  }
 ],
 "metadata": {
  "kernelspec": {
   "display_name": "Python 3",
   "language": "python",
   "name": "python3"
  },
  "language_info": {
   "codemirror_mode": {
    "name": "ipython",
    "version": 3
   },
   "file_extension": ".py",
   "mimetype": "text/x-python",
   "name": "python",
   "nbconvert_exporter": "python",
   "pygments_lexer": "ipython3",
   "version": "3.8.3"
  }
 },
 "nbformat": 4,
 "nbformat_minor": 4
}
