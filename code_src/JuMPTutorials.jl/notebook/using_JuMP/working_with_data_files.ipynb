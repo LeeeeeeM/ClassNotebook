{
 "cells": [
  {
   "cell_type": "markdown",
   "metadata": {},
   "source": [
    "---\n",
    "title: Working with Data Files\n",
    "---"
   ]
  },
  {
   "cell_type": "markdown",
   "metadata": {},
   "source": [
    "**Originally Contributed by**: Arpit Bhatia"
   ]
  },
  {
   "cell_type": "markdown",
   "metadata": {},
   "source": [
    "In many cases we might need to read data available in an external file rather than type it into Julia ourselves.\n",
    "This tutorial is concerned with reading tabular data into Julia and using it for a JuMP model. \n",
    "We'll be reading data using the DataFrames.jl package and some other packages specific to file types."
   ]
  },
  {
   "cell_type": "markdown",
   "metadata": {},
   "source": [
    "Note: There are multiple ways to read the same kind of data intto Julia.\n",
    "However, this tutorial only focuses on DataFrames.jl as\n",
    "it provides the ecosystem to work with most of the required file types in a straightforward manner."
   ]
  },
  {
   "cell_type": "markdown",
   "metadata": {},
   "source": [
    "### DataFrames.jl"
   ]
  },
  {
   "cell_type": "markdown",
   "metadata": {},
   "source": [
    "The DataFrames package provides a set of tools for working with tabular data. \n",
    "It is available through the Julia package system."
   ]
  },
  {
   "cell_type": "code",
   "execution_count": 1,
   "metadata": {},
   "outputs": [
    {
     "name": "stderr",
     "output_type": "stream",
     "text": [
      "\u001b[32m\u001b[1m   Updating\u001b[22m\u001b[39m registry at `~/.julia/registries/General`\n"
     ]
    },
    {
     "name": "stdout",
     "output_type": "stream",
     "text": [
      "\u001b[?25l\u001b[2K"
     ]
    },
    {
     "name": "stderr",
     "output_type": "stream",
     "text": [
      "\u001b[32m\u001b[1m   Updating\u001b[22m\u001b[39m git-repo `https://github.com/JuliaRegistries/General.git`\n"
     ]
    },
    {
     "name": "stdout",
     "output_type": "stream",
     "text": [
      "\u001b[?25h"
     ]
    },
    {
     "name": "stderr",
     "output_type": "stream",
     "text": [
      "\u001b[32m\u001b[1m  Resolving\u001b[22m\u001b[39m package versions...\n",
      "\u001b[32m\u001b[1mNo Changes\u001b[22m\u001b[39m to `~/Documents/crptests/project_julia/JuMPTutorials.jl/Project.toml`\n",
      "\u001b[32m\u001b[1mUpdating\u001b[22m\u001b[39m `~/Documents/crptests/project_julia/JuMPTutorials.jl/Manifest.toml`\n",
      " \u001b[90m [4fba245c] \u001b[39m\u001b[93m↑ ArrayInterface v2.2.0 ⇒ v2.13.7\u001b[39m\n",
      " \u001b[90m [9e28174c] \u001b[39m\u001b[91m- BinDeps v1.0.1\u001b[39m\n",
      " \u001b[90m [6e34b625] \u001b[39m\u001b[92m+ Bzip2_jll v1.0.6+5\u001b[39m\n",
      " \u001b[90m [523fee87] \u001b[39m\u001b[93m↑ CodecBzip2 v0.6.0 ⇒ v0.7.2\u001b[39m\n",
      " \u001b[90m [944b1d66] \u001b[39m\u001b[93m↑ CodecZlib v0.6.0 ⇒ v0.7.0\u001b[39m\n",
      " \u001b[90m [e66e0078] \u001b[39m\u001b[95m↓ CompilerSupportLibraries_jll v0.3.5+0 ⇒ v0.3.4+0\u001b[39m\n",
      " \u001b[90m [8f4d0f93] \u001b[39m\u001b[91m- Conda v1.5.0\u001b[39m\n",
      " \u001b[90m [01453d9d] \u001b[39m\u001b[93m↑ DiffEqDiffTools v1.6.0 ⇒ v1.7.0\u001b[39m\n",
      " \u001b[90m [8f5d6c58] \u001b[39m\u001b[93m↑ EzXML v1.0.0 ⇒ v1.1.0\u001b[39m\n",
      " \u001b[90m [c87230d0] \u001b[39m\u001b[93m↑ FFMPEG v0.2.4 ⇒ v0.3.0\u001b[39m\n",
      " \u001b[90m [b22a6f82] \u001b[39m\u001b[92m+ FFMPEG_jll v4.3.1+4\u001b[39m\n",
      " \u001b[90m [7a1cc6ca] \u001b[39m\u001b[93m↑ FFTW v1.1.0 ⇒ v1.2.4\u001b[39m\n",
      " \u001b[90m [f5851436] \u001b[39m\u001b[92m+ FFTW_jll v3.3.9+6\u001b[39m\n",
      " \u001b[90m [d7e528f0] \u001b[39m\u001b[92m+ FreeType2_jll v2.10.1+5\u001b[39m\n",
      " \u001b[90m [559328eb] \u001b[39m\u001b[92m+ FriBidi_jll v1.0.5+6\u001b[39m\n",
      " \u001b[90m [781609d7] \u001b[39m\u001b[95m↓ GMP_jll v6.1.2+8 ⇒ v6.1.2+6\u001b[39m\n",
      " \u001b[90m [1d5cc7b8] \u001b[39m\u001b[92m+ IntelOpenMP_jll v2018.0.3+0\u001b[39m\n",
      " \u001b[90m [c1c5ebd0] \u001b[39m\u001b[92m+ LAME_jll v3.100.0+3\u001b[39m\n",
      " \u001b[90m [dd192d2f] \u001b[39m\u001b[92m+ LibVPX_jll v1.9.0+1\u001b[39m\n",
      " \u001b[90m [94ce4f54] \u001b[39m\u001b[92m+ Libiconv_jll v1.16.0+7\u001b[39m\n",
      " \u001b[90m [856f044c] \u001b[39m\u001b[92m+ MKL_jll v2020.2.254+0\u001b[39m\n",
      " \u001b[90m [739be429] \u001b[39m\u001b[93m↑ MbedTLS v0.6.8 ⇒ v1.0.3\u001b[39m\n",
      " \u001b[90m [c8ffd9c3] \u001b[39m\u001b[92m+ MbedTLS_jll v2.16.8+1\u001b[39m\n",
      " \u001b[90m [e7412a2a] \u001b[39m\u001b[92m+ Ogg_jll v1.3.4+2\u001b[39m\n",
      " \u001b[90m [458c3c95] \u001b[39m\u001b[92m+ OpenSSL_jll v1.1.1+6\u001b[39m\n",
      " \u001b[90m [efe28fd5] \u001b[39m\u001b[92m+ OpenSpecFun_jll v0.5.3+4\u001b[39m\n",
      " \u001b[90m [91d4177d] \u001b[39m\u001b[92m+ Opus_jll v1.3.1+3\u001b[39m\n",
      " \u001b[90m [79098fc4] \u001b[39m\u001b[93m↑ Rmath v0.6.0 ⇒ v0.6.1\u001b[39m\n",
      " \u001b[90m [f50d1b31] \u001b[39m\u001b[92m+ Rmath_jll v0.2.2+1\u001b[39m\n",
      " \u001b[90m [276daf66] \u001b[39m\u001b[93m↑ SpecialFunctions v0.8.0 ⇒ v0.10.3\u001b[39m\n",
      " \u001b[90m [30578b45] \u001b[39m\u001b[91m- URIParser v0.4.1\u001b[39m\n",
      " \u001b[90m [81def892] \u001b[39m\u001b[91m- VersionParsing v1.2.0\u001b[39m\n",
      " \u001b[90m [02c8fc9c] \u001b[39m\u001b[92m+ XML2_jll v2.9.10+3\u001b[39m\n",
      " \u001b[90m [a5390f91] \u001b[39m\u001b[93m↑ ZipFile v0.8.4 ⇒ v0.9.3\u001b[39m\n",
      " \u001b[90m [83775a58] \u001b[39m\u001b[92m+ Zlib_jll v1.2.11+18\u001b[39m\n",
      " \u001b[90m [0ac62f75] \u001b[39m\u001b[92m+ libass_jll v0.14.0+4\u001b[39m\n",
      " \u001b[90m [f638f0a6] \u001b[39m\u001b[92m+ libfdk_aac_jll v0.1.6+4\u001b[39m\n",
      " \u001b[90m [f27f6e37] \u001b[39m\u001b[92m+ libvorbis_jll v1.3.6+6\u001b[39m\n",
      " \u001b[90m [1270edf5] \u001b[39m\u001b[92m+ x264_jll v2020.7.14+2\u001b[39m\n",
      " \u001b[90m [dfaa095f] \u001b[39m\u001b[92m+ x265_jll v3.0.0+3\u001b[39m\n"
     ]
    }
   ],
   "source": [
    "using Pkg\n",
    "Pkg.add(\"DataFrames\")"
   ]
  },
  {
   "cell_type": "markdown",
   "metadata": {},
   "source": [
    "### What is a DataFrame?"
   ]
  },
  {
   "cell_type": "markdown",
   "metadata": {},
   "source": [
    "A DataFrame is a data structure like a table or spreadsheet. You can use it for storing and exploring a set of related data values. \n",
    "Think of it as a smarter array for holding tabular data."
   ]
  },
  {
   "cell_type": "markdown",
   "metadata": {},
   "source": [
    "## Reading Tabular Data into a DataFrame\n",
    "We will begin by reading data from different file formats into a DataFrame object.\n",
    "The example files that we will be reading are present in the data folder."
   ]
  },
  {
   "cell_type": "markdown",
   "metadata": {},
   "source": [
    "### Excel Sheets\n",
    "Excel files can be read using the ExcelFiles.jl package."
   ]
  },
  {
   "cell_type": "code",
   "execution_count": 2,
   "metadata": {},
   "outputs": [
    {
     "name": "stderr",
     "output_type": "stream",
     "text": [
      "\u001b[32m\u001b[1m  Resolving\u001b[22m\u001b[39m package versions...\n",
      "\u001b[32m\u001b[1mNo Changes\u001b[22m\u001b[39m to `~/Documents/crptests/project_julia/JuMPTutorials.jl/Project.toml`\n",
      "\u001b[32m\u001b[1mNo Changes\u001b[22m\u001b[39m to `~/Documents/crptests/project_julia/JuMPTutorials.jl/Manifest.toml`\n"
     ]
    }
   ],
   "source": [
    "Pkg.add(\"XLSX\")"
   ]
  },
  {
   "cell_type": "markdown",
   "metadata": {},
   "source": [
    "To read a Excel file into a DataFrame, we use the following julia code. \n",
    "The first arguement to the `readtable` function is the file to be read and the second arguement is the name of the sheet."
   ]
  },
  {
   "cell_type": "code",
   "execution_count": 3,
   "metadata": {},
   "outputs": [
    {
     "name": "stderr",
     "output_type": "stream",
     "text": [
      "┌ Info: Precompiling XLSX [fdbf4ff8-1666-58a4-91e7-1b58723a45e0]\n",
      "└ @ Base loading.jl:1278\n",
      "ERROR: LoadError: ArgumentError: Package XLSX does not have Tables in its dependencies:\n",
      "- If you have XLSX checked out for development and have\n",
      "  added Tables as a dependency but haven't updated your primary\n",
      "  environment's manifest file, try `Pkg.resolve()`.\n",
      "- Otherwise you may need to report an issue with XLSX\n",
      "Stacktrace:\n",
      " [1] require(::Module, ::Symbol) at ./loading.jl:906\n",
      " [2] include(::Function, ::Module, ::String) at ./Base.jl:380\n",
      " [3] include(::Module, ::String) at ./Base.jl:368\n",
      " [4] top-level scope at none:2\n",
      " [5] eval at ./boot.jl:331 [inlined]\n",
      " [6] eval(::Expr) at ./client.jl:467\n",
      " [7] top-level scope at ./none:3\n",
      "in expression starting at /home/mbesancon/.julia/packages/XLSX/ezOOQ/src/XLSX.jl:8\n"
     ]
    },
    {
     "ename": "LoadError",
     "evalue": "Failed to precompile XLSX [fdbf4ff8-1666-58a4-91e7-1b58723a45e0] to /home/mbesancon/.julia/compiled/v1.5/XLSX/gPxqz_tEb9w.ji.",
     "output_type": "error",
     "traceback": [
      "Failed to precompile XLSX [fdbf4ff8-1666-58a4-91e7-1b58723a45e0] to /home/mbesancon/.julia/compiled/v1.5/XLSX/gPxqz_tEb9w.ji.",
      "",
      "Stacktrace:",
      " [1] error(::String) at ./error.jl:33",
      " [2] compilecache(::Base.PkgId, ::String) at ./loading.jl:1305",
      " [3] _require(::Base.PkgId) at ./loading.jl:1030",
      " [4] require(::Base.PkgId) at ./loading.jl:928",
      " [5] require(::Module, ::Symbol) at ./loading.jl:923",
      " [6] include_string(::Function, ::Module, ::String, ::String) at ./loading.jl:1091",
      " [7] execute_code(::String, ::String) at /home/mbesancon/.julia/packages/IJulia/a1SNk/src/execute_request.jl:27",
      " [8] execute_request(::ZMQ.Socket, ::IJulia.Msg) at /home/mbesancon/.julia/packages/IJulia/a1SNk/src/execute_request.jl:86",
      " [9] #invokelatest#1 at ./essentials.jl:710 [inlined]",
      " [10] invokelatest at ./essentials.jl:709 [inlined]",
      " [11] eventloop(::ZMQ.Socket) at /home/mbesancon/.julia/packages/IJulia/a1SNk/src/eventloop.jl:8",
      " [12] (::IJulia.var\"#15#18\")() at ./task.jl:356"
     ]
    }
   ],
   "source": [
    "using DataFrames\n",
    "using XLSX"
   ]
  },
  {
   "cell_type": "code",
   "execution_count": 4,
   "metadata": {},
   "outputs": [
    {
     "ename": "LoadError",
     "evalue": "UndefVarError: XLSX not defined",
     "output_type": "error",
     "traceback": [
      "UndefVarError: XLSX not defined",
      "",
      "Stacktrace:",
      " [1] top-level scope at In[4]:2",
      " [2] include_string(::Function, ::Module, ::String, ::String) at ./loading.jl:1091",
      " [3] execute_code(::String, ::String) at /home/mbesancon/.julia/packages/IJulia/a1SNk/src/execute_request.jl:27",
      " [4] execute_request(::ZMQ.Socket, ::IJulia.Msg) at /home/mbesancon/.julia/packages/IJulia/a1SNk/src/execute_request.jl:86",
      " [5] #invokelatest#1 at ./essentials.jl:710 [inlined]",
      " [6] invokelatest at ./essentials.jl:709 [inlined]",
      " [7] eventloop(::ZMQ.Socket) at /home/mbesancon/.julia/packages/IJulia/a1SNk/src/eventloop.jl:8",
      " [8] (::IJulia.var\"#15#18\")() at ./task.jl:356"
     ]
    }
   ],
   "source": [
    "data_dir = joinpath(@__DIR__, \"data\")\n",
    "excel_df = DataFrame(XLSX.readtable(joinpath(data_dir, \"SalesData.xlsx\"), \"SalesOrders\")...)"
   ]
  },
  {
   "cell_type": "markdown",
   "metadata": {},
   "source": [
    "### CSV Files\n",
    "CSV and other delimited text files can be read the CSV.jl package."
   ]
  },
  {
   "cell_type": "code",
   "execution_count": 5,
   "metadata": {},
   "outputs": [
    {
     "name": "stderr",
     "output_type": "stream",
     "text": [
      "\u001b[32m\u001b[1m  Resolving\u001b[22m\u001b[39m package versions...\n",
      "\u001b[32m\u001b[1mNo Changes\u001b[22m\u001b[39m to `~/Documents/crptests/project_julia/JuMPTutorials.jl/Project.toml`\n",
      "\u001b[32m\u001b[1mNo Changes\u001b[22m\u001b[39m to `~/Documents/crptests/project_julia/JuMPTutorials.jl/Manifest.toml`\n"
     ]
    }
   ],
   "source": [
    "Pkg.add(\"CSV\")"
   ]
  },
  {
   "cell_type": "markdown",
   "metadata": {},
   "source": [
    "To read a CSV file into a DataFrame, we use the `CSV.read` function."
   ]
  },
  {
   "cell_type": "code",
   "execution_count": 6,
   "metadata": {},
   "outputs": [
    {
     "name": "stderr",
     "output_type": "stream",
     "text": [
      "┌ Info: Precompiling CSV [336ed68f-0bac-5ca0-87d4-7b16caf5d00b]\n",
      "└ @ Base loading.jl:1278\n",
      "ERROR: LoadError: ArgumentError: Package CSV does not have SentinelArrays in its dependencies:\n",
      "- If you have CSV checked out for development and have\n",
      "  added SentinelArrays as a dependency but haven't updated your primary\n",
      "  environment's manifest file, try `Pkg.resolve()`.\n",
      "- Otherwise you may need to report an issue with CSV\n",
      "Stacktrace:\n",
      " [1] require(::Module, ::Symbol) at ./loading.jl:906\n",
      " [2] include(::Function, ::Module, ::String) at ./Base.jl:380\n",
      " [3] include(::Module, ::String) at ./Base.jl:368\n",
      " [4] top-level scope at none:2\n",
      " [5] eval at ./boot.jl:331 [inlined]\n",
      " [6] eval(::Expr) at ./client.jl:467\n",
      " [7] top-level scope at ./none:3\n",
      "in expression starting at /home/mbesancon/.julia/packages/CSV/76SRf/src/CSV.jl:14\n"
     ]
    },
    {
     "ename": "LoadError",
     "evalue": "Failed to precompile CSV [336ed68f-0bac-5ca0-87d4-7b16caf5d00b] to /home/mbesancon/.julia/compiled/v1.5/CSV/HHBkp_tEb9w.ji.",
     "output_type": "error",
     "traceback": [
      "Failed to precompile CSV [336ed68f-0bac-5ca0-87d4-7b16caf5d00b] to /home/mbesancon/.julia/compiled/v1.5/CSV/HHBkp_tEb9w.ji.",
      "",
      "Stacktrace:",
      " [1] error(::String) at ./error.jl:33",
      " [2] compilecache(::Base.PkgId, ::String) at ./loading.jl:1305",
      " [3] _require(::Base.PkgId) at ./loading.jl:1030",
      " [4] require(::Base.PkgId) at ./loading.jl:928",
      " [5] require(::Module, ::Symbol) at ./loading.jl:923",
      " [6] include_string(::Function, ::Module, ::String, ::String) at ./loading.jl:1091",
      " [7] execute_code(::String, ::String) at /home/mbesancon/.julia/packages/IJulia/a1SNk/src/execute_request.jl:27",
      " [8] execute_request(::ZMQ.Socket, ::IJulia.Msg) at /home/mbesancon/.julia/packages/IJulia/a1SNk/src/execute_request.jl:86",
      " [9] #invokelatest#1 at ./essentials.jl:710 [inlined]",
      " [10] invokelatest at ./essentials.jl:709 [inlined]",
      " [11] eventloop(::ZMQ.Socket) at /home/mbesancon/.julia/packages/IJulia/a1SNk/src/eventloop.jl:8",
      " [12] (::IJulia.var\"#15#18\")() at ./task.jl:356"
     ]
    }
   ],
   "source": [
    "using CSV\n",
    "csv_df = CSV.read(joinpath(data_dir, \"StarWars.csv\"))"
   ]
  },
  {
   "cell_type": "markdown",
   "metadata": {},
   "source": [
    "### Other Delimited Files\n",
    "We can also use the CSV.jl package to read any other delimited text file format. \n",
    "By default, CSV.File will try to detect a file's delimiter from the first 10 lines of the file.\n",
    "Candidate delimiters include `','`, `'\\t'`, `' '`, `'|'`, `';'`, and `':'`. If it can't auto-detect the delimiter, it will assume `','`.\n",
    "Let's take the example of space separated data."
   ]
  },
  {
   "cell_type": "code",
   "execution_count": 7,
   "metadata": {},
   "outputs": [
    {
     "ename": "LoadError",
     "evalue": "UndefVarError: CSV not defined",
     "output_type": "error",
     "traceback": [
      "UndefVarError: CSV not defined",
      "",
      "Stacktrace:",
      " [1] top-level scope at In[7]:1",
      " [2] include_string(::Function, ::Module, ::String, ::String) at ./loading.jl:1091",
      " [3] execute_code(::String, ::String) at /home/mbesancon/.julia/packages/IJulia/a1SNk/src/execute_request.jl:27",
      " [4] execute_request(::ZMQ.Socket, ::IJulia.Msg) at /home/mbesancon/.julia/packages/IJulia/a1SNk/src/execute_request.jl:86",
      " [5] #invokelatest#1 at ./essentials.jl:710 [inlined]",
      " [6] invokelatest at ./essentials.jl:709 [inlined]",
      " [7] eventloop(::ZMQ.Socket) at /home/mbesancon/.julia/packages/IJulia/a1SNk/src/eventloop.jl:8",
      " [8] (::IJulia.var\"#15#18\")() at ./task.jl:356"
     ]
    }
   ],
   "source": [
    "ss_df = CSV.read(joinpath(data_dir, \"Cereal.txt\"))"
   ]
  },
  {
   "cell_type": "markdown",
   "metadata": {},
   "source": [
    "We can also specify the delimiter by passing the `delim` arguement."
   ]
  },
  {
   "cell_type": "code",
   "execution_count": 8,
   "metadata": {},
   "outputs": [
    {
     "ename": "LoadError",
     "evalue": "UndefVarError: CSV not defined",
     "output_type": "error",
     "traceback": [
      "UndefVarError: CSV not defined",
      "",
      "Stacktrace:",
      " [1] top-level scope at In[8]:1",
      " [2] include_string(::Function, ::Module, ::String, ::String) at ./loading.jl:1091",
      " [3] execute_code(::String, ::String) at /home/mbesancon/.julia/packages/IJulia/a1SNk/src/execute_request.jl:27",
      " [4] execute_request(::ZMQ.Socket, ::IJulia.Msg) at /home/mbesancon/.julia/packages/IJulia/a1SNk/src/execute_request.jl:86",
      " [5] #invokelatest#1 at ./essentials.jl:710 [inlined]",
      " [6] invokelatest at ./essentials.jl:709 [inlined]",
      " [7] eventloop(::ZMQ.Socket) at /home/mbesancon/.julia/packages/IJulia/a1SNk/src/eventloop.jl:8",
      " [8] (::IJulia.var\"#15#18\")() at ./task.jl:356"
     ]
    }
   ],
   "source": [
    "delim_df = CSV.read(joinpath(data_dir, \"Soccer.txt\"), delim = \"::\")"
   ]
  },
  {
   "cell_type": "markdown",
   "metadata": {},
   "source": [
    "Note that by default, are read-only. If we wish to make changes to the data read, we pass the `copycols = true` arguement in the function call."
   ]
  },
  {
   "cell_type": "code",
   "execution_count": 9,
   "metadata": {},
   "outputs": [
    {
     "ename": "LoadError",
     "evalue": "UndefVarError: CSV not defined",
     "output_type": "error",
     "traceback": [
      "UndefVarError: CSV not defined",
      "",
      "Stacktrace:",
      " [1] top-level scope at In[9]:1",
      " [2] include_string(::Function, ::Module, ::String, ::String) at ./loading.jl:1091",
      " [3] execute_code(::String, ::String) at /home/mbesancon/.julia/packages/IJulia/a1SNk/src/execute_request.jl:27",
      " [4] execute_request(::ZMQ.Socket, ::IJulia.Msg) at /home/mbesancon/.julia/packages/IJulia/a1SNk/src/execute_request.jl:86",
      " [5] #invokelatest#1 at ./essentials.jl:710 [inlined]",
      " [6] invokelatest at ./essentials.jl:709 [inlined]",
      " [7] eventloop(::ZMQ.Socket) at /home/mbesancon/.julia/packages/IJulia/a1SNk/src/eventloop.jl:8",
      " [8] (::IJulia.var\"#15#18\")() at ./task.jl:356"
     ]
    }
   ],
   "source": [
    "ss_df = CSV.read(joinpath(data_dir, \"Cereal.txt\"), copycols = true)"
   ]
  },
  {
   "cell_type": "markdown",
   "metadata": {},
   "source": [
    "## Working with DataFrames\n",
    "Now that we have read the required data into a DataFrame, let us look at some basic operations we can perform on it."
   ]
  },
  {
   "cell_type": "markdown",
   "metadata": {},
   "source": [
    "### Querying Basic Information\n",
    "The `size` function gets us the dimensions of the DataFrame."
   ]
  },
  {
   "cell_type": "code",
   "execution_count": 10,
   "metadata": {},
   "outputs": [
    {
     "ename": "LoadError",
     "evalue": "UndefVarError: ss_df not defined",
     "output_type": "error",
     "traceback": [
      "UndefVarError: ss_df not defined",
      "",
      "Stacktrace:",
      " [1] top-level scope at In[10]:1",
      " [2] include_string(::Function, ::Module, ::String, ::String) at ./loading.jl:1091",
      " [3] execute_code(::String, ::String) at /home/mbesancon/.julia/packages/IJulia/a1SNk/src/execute_request.jl:27",
      " [4] execute_request(::ZMQ.Socket, ::IJulia.Msg) at /home/mbesancon/.julia/packages/IJulia/a1SNk/src/execute_request.jl:86",
      " [5] #invokelatest#1 at ./essentials.jl:710 [inlined]",
      " [6] invokelatest at ./essentials.jl:709 [inlined]",
      " [7] eventloop(::ZMQ.Socket) at /home/mbesancon/.julia/packages/IJulia/a1SNk/src/eventloop.jl:8",
      " [8] (::IJulia.var\"#15#18\")() at ./task.jl:356"
     ]
    }
   ],
   "source": [
    "size(ss_df)"
   ]
  },
  {
   "cell_type": "markdown",
   "metadata": {},
   "source": [
    "We can also us the `nrow` and `ncol` functions to get the number of rows and columns respectively."
   ]
  },
  {
   "cell_type": "code",
   "execution_count": 11,
   "metadata": {},
   "outputs": [
    {
     "ename": "LoadError",
     "evalue": "UndefVarError: ss_df not defined",
     "output_type": "error",
     "traceback": [
      "UndefVarError: ss_df not defined",
      "",
      "Stacktrace:",
      " [1] top-level scope at In[11]:1",
      " [2] include_string(::Function, ::Module, ::String, ::String) at ./loading.jl:1091",
      " [3] execute_code(::String, ::String) at /home/mbesancon/.julia/packages/IJulia/a1SNk/src/execute_request.jl:27",
      " [4] execute_request(::ZMQ.Socket, ::IJulia.Msg) at /home/mbesancon/.julia/packages/IJulia/a1SNk/src/execute_request.jl:86",
      " [5] #invokelatest#1 at ./essentials.jl:710 [inlined]",
      " [6] invokelatest at ./essentials.jl:709 [inlined]",
      " [7] eventloop(::ZMQ.Socket) at /home/mbesancon/.julia/packages/IJulia/a1SNk/src/eventloop.jl:8",
      " [8] (::IJulia.var\"#15#18\")() at ./task.jl:356"
     ]
    }
   ],
   "source": [
    "nrow(ss_df), ncol(ss_df)"
   ]
  },
  {
   "cell_type": "markdown",
   "metadata": {},
   "source": [
    "The `describe` function gives basic summary statistics of data in a DataFrame."
   ]
  },
  {
   "cell_type": "code",
   "execution_count": 12,
   "metadata": {},
   "outputs": [
    {
     "ename": "LoadError",
     "evalue": "UndefVarError: ss_df not defined",
     "output_type": "error",
     "traceback": [
      "UndefVarError: ss_df not defined",
      "",
      "Stacktrace:",
      " [1] top-level scope at In[12]:1",
      " [2] include_string(::Function, ::Module, ::String, ::String) at ./loading.jl:1091",
      " [3] execute_code(::String, ::String) at /home/mbesancon/.julia/packages/IJulia/a1SNk/src/execute_request.jl:27",
      " [4] execute_request(::ZMQ.Socket, ::IJulia.Msg) at /home/mbesancon/.julia/packages/IJulia/a1SNk/src/execute_request.jl:86",
      " [5] #invokelatest#1 at ./essentials.jl:710 [inlined]",
      " [6] invokelatest at ./essentials.jl:709 [inlined]",
      " [7] eventloop(::ZMQ.Socket) at /home/mbesancon/.julia/packages/IJulia/a1SNk/src/eventloop.jl:8",
      " [8] (::IJulia.var\"#15#18\")() at ./task.jl:356"
     ]
    }
   ],
   "source": [
    "describe(ss_df)"
   ]
  },
  {
   "cell_type": "markdown",
   "metadata": {},
   "source": [
    "Names of every column can be obtained by the `names` function."
   ]
  },
  {
   "cell_type": "code",
   "execution_count": 13,
   "metadata": {},
   "outputs": [
    {
     "ename": "LoadError",
     "evalue": "UndefVarError: ss_df not defined",
     "output_type": "error",
     "traceback": [
      "UndefVarError: ss_df not defined",
      "",
      "Stacktrace:",
      " [1] top-level scope at In[13]:1",
      " [2] include_string(::Function, ::Module, ::String, ::String) at ./loading.jl:1091",
      " [3] execute_code(::String, ::String) at /home/mbesancon/.julia/packages/IJulia/a1SNk/src/execute_request.jl:27",
      " [4] execute_request(::ZMQ.Socket, ::IJulia.Msg) at /home/mbesancon/.julia/packages/IJulia/a1SNk/src/execute_request.jl:86",
      " [5] #invokelatest#1 at ./essentials.jl:710 [inlined]",
      " [6] invokelatest at ./essentials.jl:709 [inlined]",
      " [7] eventloop(::ZMQ.Socket) at /home/mbesancon/.julia/packages/IJulia/a1SNk/src/eventloop.jl:8",
      " [8] (::IJulia.var\"#15#18\")() at ./task.jl:356"
     ]
    }
   ],
   "source": [
    "names(ss_df)"
   ]
  },
  {
   "cell_type": "markdown",
   "metadata": {},
   "source": [
    "Corresponding data types are obtained using the broadcasted `eltype` function."
   ]
  },
  {
   "cell_type": "code",
   "execution_count": 14,
   "metadata": {},
   "outputs": [
    {
     "ename": "LoadError",
     "evalue": "UndefVarError: ss_df not defined",
     "output_type": "error",
     "traceback": [
      "UndefVarError: ss_df not defined",
      "",
      "Stacktrace:",
      " [1] top-level scope at In[14]:1",
      " [2] include_string(::Function, ::Module, ::String, ::String) at ./loading.jl:1091",
      " [3] execute_code(::String, ::String) at /home/mbesancon/.julia/packages/IJulia/a1SNk/src/execute_request.jl:27",
      " [4] execute_request(::ZMQ.Socket, ::IJulia.Msg) at /home/mbesancon/.julia/packages/IJulia/a1SNk/src/execute_request.jl:86",
      " [5] #invokelatest#1 at ./essentials.jl:710 [inlined]",
      " [6] invokelatest at ./essentials.jl:709 [inlined]",
      " [7] eventloop(::ZMQ.Socket) at /home/mbesancon/.julia/packages/IJulia/a1SNk/src/eventloop.jl:8",
      " [8] (::IJulia.var\"#15#18\")() at ./task.jl:356"
     ]
    }
   ],
   "source": [
    "eltype.(ss_df)"
   ]
  },
  {
   "cell_type": "markdown",
   "metadata": {},
   "source": [
    "### Accessing the Data\n",
    "Similar to regular arrays, we use numerical indexing to access elements of a DataFrame."
   ]
  },
  {
   "cell_type": "code",
   "execution_count": 15,
   "metadata": {},
   "outputs": [
    {
     "ename": "LoadError",
     "evalue": "UndefVarError: csv_df not defined",
     "output_type": "error",
     "traceback": [
      "UndefVarError: csv_df not defined",
      "",
      "Stacktrace:",
      " [1] top-level scope at In[15]:1",
      " [2] include_string(::Function, ::Module, ::String, ::String) at ./loading.jl:1091",
      " [3] execute_code(::String, ::String) at /home/mbesancon/.julia/packages/IJulia/a1SNk/src/execute_request.jl:27",
      " [4] execute_request(::ZMQ.Socket, ::IJulia.Msg) at /home/mbesancon/.julia/packages/IJulia/a1SNk/src/execute_request.jl:86",
      " [5] #invokelatest#1 at ./essentials.jl:710 [inlined]",
      " [6] invokelatest at ./essentials.jl:709 [inlined]",
      " [7] eventloop(::ZMQ.Socket) at /home/mbesancon/.julia/packages/IJulia/a1SNk/src/eventloop.jl:8",
      " [8] (::IJulia.var\"#15#18\")() at ./task.jl:356"
     ]
    }
   ],
   "source": [
    "csv_df[1,1]"
   ]
  },
  {
   "cell_type": "markdown",
   "metadata": {},
   "source": [
    "The following are different ways to access a column."
   ]
  },
  {
   "cell_type": "code",
   "execution_count": 16,
   "metadata": {},
   "outputs": [
    {
     "ename": "LoadError",
     "evalue": "UndefVarError: csv_df not defined",
     "output_type": "error",
     "traceback": [
      "UndefVarError: csv_df not defined",
      "",
      "Stacktrace:",
      " [1] top-level scope at In[16]:1",
      " [2] include_string(::Function, ::Module, ::String, ::String) at ./loading.jl:1091",
      " [3] execute_code(::String, ::String) at /home/mbesancon/.julia/packages/IJulia/a1SNk/src/execute_request.jl:27",
      " [4] execute_request(::ZMQ.Socket, ::IJulia.Msg) at /home/mbesancon/.julia/packages/IJulia/a1SNk/src/execute_request.jl:86",
      " [5] #invokelatest#1 at ./essentials.jl:710 [inlined]",
      " [6] invokelatest at ./essentials.jl:709 [inlined]",
      " [7] eventloop(::ZMQ.Socket) at /home/mbesancon/.julia/packages/IJulia/a1SNk/src/eventloop.jl:8",
      " [8] (::IJulia.var\"#15#18\")() at ./task.jl:356"
     ]
    }
   ],
   "source": [
    "csv_df[!, 1]"
   ]
  },
  {
   "cell_type": "code",
   "execution_count": 17,
   "metadata": {},
   "outputs": [
    {
     "ename": "LoadError",
     "evalue": "UndefVarError: csv_df not defined",
     "output_type": "error",
     "traceback": [
      "UndefVarError: csv_df not defined",
      "",
      "Stacktrace:",
      " [1] top-level scope at In[17]:1",
      " [2] include_string(::Function, ::Module, ::String, ::String) at ./loading.jl:1091",
      " [3] execute_code(::String, ::String) at /home/mbesancon/.julia/packages/IJulia/a1SNk/src/execute_request.jl:27",
      " [4] execute_request(::ZMQ.Socket, ::IJulia.Msg) at /home/mbesancon/.julia/packages/IJulia/a1SNk/src/execute_request.jl:86",
      " [5] #invokelatest#1 at ./essentials.jl:710 [inlined]",
      " [6] invokelatest at ./essentials.jl:709 [inlined]",
      " [7] eventloop(::ZMQ.Socket) at /home/mbesancon/.julia/packages/IJulia/a1SNk/src/eventloop.jl:8",
      " [8] (::IJulia.var\"#15#18\")() at ./task.jl:356"
     ]
    }
   ],
   "source": [
    "csv_df[!, :Name]"
   ]
  },
  {
   "cell_type": "code",
   "execution_count": 18,
   "metadata": {},
   "outputs": [
    {
     "ename": "LoadError",
     "evalue": "UndefVarError: csv_df not defined",
     "output_type": "error",
     "traceback": [
      "UndefVarError: csv_df not defined",
      "",
      "Stacktrace:",
      " [1] top-level scope at In[18]:1",
      " [2] include_string(::Function, ::Module, ::String, ::String) at ./loading.jl:1091",
      " [3] execute_code(::String, ::String) at /home/mbesancon/.julia/packages/IJulia/a1SNk/src/execute_request.jl:27",
      " [4] execute_request(::ZMQ.Socket, ::IJulia.Msg) at /home/mbesancon/.julia/packages/IJulia/a1SNk/src/execute_request.jl:86",
      " [5] #invokelatest#1 at ./essentials.jl:710 [inlined]",
      " [6] invokelatest at ./essentials.jl:709 [inlined]",
      " [7] eventloop(::ZMQ.Socket) at /home/mbesancon/.julia/packages/IJulia/a1SNk/src/eventloop.jl:8",
      " [8] (::IJulia.var\"#15#18\")() at ./task.jl:356"
     ]
    }
   ],
   "source": [
    "csv_df.Name"
   ]
  },
  {
   "cell_type": "code",
   "execution_count": 19,
   "metadata": {},
   "outputs": [
    {
     "ename": "LoadError",
     "evalue": "UndefVarError: csv_df not defined",
     "output_type": "error",
     "traceback": [
      "UndefVarError: csv_df not defined",
      "",
      "Stacktrace:",
      " [1] top-level scope at In[19]:1",
      " [2] include_string(::Function, ::Module, ::String, ::String) at ./loading.jl:1091",
      " [3] execute_code(::String, ::String) at /home/mbesancon/.julia/packages/IJulia/a1SNk/src/execute_request.jl:27",
      " [4] execute_request(::ZMQ.Socket, ::IJulia.Msg) at /home/mbesancon/.julia/packages/IJulia/a1SNk/src/execute_request.jl:86",
      " [5] #invokelatest#1 at ./essentials.jl:710 [inlined]",
      " [6] invokelatest at ./essentials.jl:709 [inlined]",
      " [7] eventloop(::ZMQ.Socket) at /home/mbesancon/.julia/packages/IJulia/a1SNk/src/eventloop.jl:8",
      " [8] (::IJulia.var\"#15#18\")() at ./task.jl:356"
     ]
    }
   ],
   "source": [
    "csv_df[:, 1] # note that this creates a copy"
   ]
  },
  {
   "cell_type": "markdown",
   "metadata": {},
   "source": [
    "The following are different ways to access a row."
   ]
  },
  {
   "cell_type": "code",
   "execution_count": 20,
   "metadata": {},
   "outputs": [
    {
     "ename": "LoadError",
     "evalue": "UndefVarError: csv_df not defined",
     "output_type": "error",
     "traceback": [
      "UndefVarError: csv_df not defined",
      "",
      "Stacktrace:",
      " [1] top-level scope at In[20]:1",
      " [2] include_string(::Function, ::Module, ::String, ::String) at ./loading.jl:1091",
      " [3] execute_code(::String, ::String) at /home/mbesancon/.julia/packages/IJulia/a1SNk/src/execute_request.jl:27",
      " [4] execute_request(::ZMQ.Socket, ::IJulia.Msg) at /home/mbesancon/.julia/packages/IJulia/a1SNk/src/execute_request.jl:86",
      " [5] #invokelatest#1 at ./essentials.jl:710 [inlined]",
      " [6] invokelatest at ./essentials.jl:709 [inlined]",
      " [7] eventloop(::ZMQ.Socket) at /home/mbesancon/.julia/packages/IJulia/a1SNk/src/eventloop.jl:8",
      " [8] (::IJulia.var\"#15#18\")() at ./task.jl:356"
     ]
    }
   ],
   "source": [
    "csv_df[1:1, :]"
   ]
  },
  {
   "cell_type": "code",
   "execution_count": 21,
   "metadata": {},
   "outputs": [
    {
     "ename": "LoadError",
     "evalue": "UndefVarError: csv_df not defined",
     "output_type": "error",
     "traceback": [
      "UndefVarError: csv_df not defined",
      "",
      "Stacktrace:",
      " [1] top-level scope at In[21]:1",
      " [2] include_string(::Function, ::Module, ::String, ::String) at ./loading.jl:1091",
      " [3] execute_code(::String, ::String) at /home/mbesancon/.julia/packages/IJulia/a1SNk/src/execute_request.jl:27",
      " [4] execute_request(::ZMQ.Socket, ::IJulia.Msg) at /home/mbesancon/.julia/packages/IJulia/a1SNk/src/execute_request.jl:86",
      " [5] #invokelatest#1 at ./essentials.jl:710 [inlined]",
      " [6] invokelatest at ./essentials.jl:709 [inlined]",
      " [7] eventloop(::ZMQ.Socket) at /home/mbesancon/.julia/packages/IJulia/a1SNk/src/eventloop.jl:8",
      " [8] (::IJulia.var\"#15#18\")() at ./task.jl:356"
     ]
    }
   ],
   "source": [
    "csv_df[1, :] # this produces a DataFrameRow"
   ]
  },
  {
   "cell_type": "markdown",
   "metadata": {},
   "source": [
    "We can change the values just as we normally assign values."
   ]
  },
  {
   "cell_type": "markdown",
   "metadata": {},
   "source": [
    "Assign a range to scalar."
   ]
  },
  {
   "cell_type": "code",
   "execution_count": 22,
   "metadata": {},
   "outputs": [
    {
     "ename": "LoadError",
     "evalue": "UndefVarError: excel_df not defined",
     "output_type": "error",
     "traceback": [
      "UndefVarError: excel_df not defined",
      "",
      "Stacktrace:",
      " [1] top-level scope at In[22]:1",
      " [2] include_string(::Function, ::Module, ::String, ::String) at ./loading.jl:1091",
      " [3] execute_code(::String, ::String) at /home/mbesancon/.julia/packages/IJulia/a1SNk/src/execute_request.jl:27",
      " [4] execute_request(::ZMQ.Socket, ::IJulia.Msg) at /home/mbesancon/.julia/packages/IJulia/a1SNk/src/execute_request.jl:86",
      " [5] #invokelatest#1 at ./essentials.jl:710 [inlined]",
      " [6] invokelatest at ./essentials.jl:709 [inlined]",
      " [7] eventloop(::ZMQ.Socket) at /home/mbesancon/.julia/packages/IJulia/a1SNk/src/eventloop.jl:8",
      " [8] (::IJulia.var\"#15#18\")() at ./task.jl:356"
     ]
    }
   ],
   "source": [
    "excel_df[1:3, 5] .= 1"
   ]
  },
  {
   "cell_type": "markdown",
   "metadata": {},
   "source": [
    "Vector to equal length vector."
   ]
  },
  {
   "cell_type": "code",
   "execution_count": 23,
   "metadata": {},
   "outputs": [
    {
     "ename": "LoadError",
     "evalue": "UndefVarError: excel_df not defined",
     "output_type": "error",
     "traceback": [
      "UndefVarError: excel_df not defined",
      "",
      "Stacktrace:",
      " [1] top-level scope at In[23]:1",
      " [2] include_string(::Function, ::Module, ::String, ::String) at ./loading.jl:1091",
      " [3] execute_code(::String, ::String) at /home/mbesancon/.julia/packages/IJulia/a1SNk/src/execute_request.jl:27",
      " [4] execute_request(::ZMQ.Socket, ::IJulia.Msg) at /home/mbesancon/.julia/packages/IJulia/a1SNk/src/execute_request.jl:86",
      " [5] #invokelatest#1 at ./essentials.jl:710 [inlined]",
      " [6] invokelatest at ./essentials.jl:709 [inlined]",
      " [7] eventloop(::ZMQ.Socket) at /home/mbesancon/.julia/packages/IJulia/a1SNk/src/eventloop.jl:8",
      " [8] (::IJulia.var\"#15#18\")() at ./task.jl:356"
     ]
    }
   ],
   "source": [
    "excel_df[4:6, 5] = [4, 5, 6]"
   ]
  },
  {
   "cell_type": "markdown",
   "metadata": {},
   "source": [
    "Subset of the DataFrame to another data frame of matching size."
   ]
  },
  {
   "cell_type": "code",
   "execution_count": 24,
   "metadata": {},
   "outputs": [
    {
     "ename": "LoadError",
     "evalue": "UndefVarError: excel_df not defined",
     "output_type": "error",
     "traceback": [
      "UndefVarError: excel_df not defined",
      "",
      "Stacktrace:",
      " [1] top-level scope at In[24]:1",
      " [2] include_string(::Function, ::Module, ::String, ::String) at ./loading.jl:1091",
      " [3] execute_code(::String, ::String) at /home/mbesancon/.julia/packages/IJulia/a1SNk/src/execute_request.jl:27",
      " [4] execute_request(::ZMQ.Socket, ::IJulia.Msg) at /home/mbesancon/.julia/packages/IJulia/a1SNk/src/execute_request.jl:86",
      " [5] #invokelatest#1 at ./essentials.jl:710 [inlined]",
      " [6] invokelatest at ./essentials.jl:709 [inlined]",
      " [7] eventloop(::ZMQ.Socket) at /home/mbesancon/.julia/packages/IJulia/a1SNk/src/eventloop.jl:8",
      " [8] (::IJulia.var\"#15#18\")() at ./task.jl:356"
     ]
    }
   ],
   "source": [
    "excel_df[1:2, 6:7] =  DataFrame([-2 -2; -2 -2], [Symbol(\"Unit Cost\"), :Total])"
   ]
  },
  {
   "cell_type": "code",
   "execution_count": 25,
   "metadata": {},
   "outputs": [
    {
     "ename": "LoadError",
     "evalue": "UndefVarError: excel_df not defined",
     "output_type": "error",
     "traceback": [
      "UndefVarError: excel_df not defined",
      "",
      "Stacktrace:",
      " [1] top-level scope",
      " [2] include_string(::Function, ::Module, ::String, ::String) at ./loading.jl:1091",
      " [3] execute_code(::String, ::String) at /home/mbesancon/.julia/packages/IJulia/a1SNk/src/execute_request.jl:27",
      " [4] execute_request(::ZMQ.Socket, ::IJulia.Msg) at /home/mbesancon/.julia/packages/IJulia/a1SNk/src/execute_request.jl:86",
      " [5] #invokelatest#1 at ./essentials.jl:710 [inlined]",
      " [6] invokelatest at ./essentials.jl:709 [inlined]",
      " [7] eventloop(::ZMQ.Socket) at /home/mbesancon/.julia/packages/IJulia/a1SNk/src/eventloop.jl:8",
      " [8] (::IJulia.var\"#15#18\")() at ./task.jl:356"
     ]
    }
   ],
   "source": [
    "excel_df"
   ]
  },
  {
   "cell_type": "markdown",
   "metadata": {},
   "source": [
    "There are a lot more things which can be done with a DataFrame. \n",
    "See the [docs](https://juliadata.github.io/DataFrames.jl/stable/) for more information."
   ]
  },
  {
   "cell_type": "markdown",
   "metadata": {},
   "source": [
    "## A Complete Modelling Example - Passport Problem"
   ]
  },
  {
   "cell_type": "markdown",
   "metadata": {},
   "source": [
    "Let's now apply what we have learnt to solve a real modelling problem."
   ]
  },
  {
   "cell_type": "markdown",
   "metadata": {},
   "source": [
    "The [Passport Index Dataset](https://github.com/ilyankou/passport-index-dataset) \n",
    "lists travel visa requirements for 199 countries, in .csv format.\n",
    "Our task is to find out the minimum number of passports required to visit all countries."
   ]
  },
  {
   "cell_type": "markdown",
   "metadata": {},
   "source": [
    "In this dataset, the first column represents a passport (=from) and each remaining column represents a foreign country (=to). \n",
    "The values in each cell are as follows:\n",
    "* 3 = visa-free travel\n",
    "* 2 = eTA is required\n",
    "* 1 = visa can be obtained on arrival\n",
    "* 0 = visa is required\n",
    "* -1 is for all instances where passport and destination are the same"
   ]
  },
  {
   "cell_type": "markdown",
   "metadata": {},
   "source": [
    "Our task is to find out the minimum number of passports needed to visit every country without requiring a visa.\n",
    "Thus, the values we are interested in are -1 and 3. Let us modify the data in the following manner -"
   ]
  },
  {
   "cell_type": "code",
   "execution_count": 26,
   "metadata": {},
   "outputs": [
    {
     "ename": "LoadError",
     "evalue": "UndefVarError: CSV not defined",
     "output_type": "error",
     "traceback": [
      "UndefVarError: CSV not defined",
      "",
      "Stacktrace:",
      " [1] top-level scope at In[26]:1",
      " [2] include_string(::Function, ::Module, ::String, ::String) at ./loading.jl:1091",
      " [3] execute_code(::String, ::String) at /home/mbesancon/.julia/packages/IJulia/a1SNk/src/execute_request.jl:27",
      " [4] execute_request(::ZMQ.Socket, ::IJulia.Msg) at /home/mbesancon/.julia/packages/IJulia/a1SNk/src/execute_request.jl:86",
      " [5] #invokelatest#1 at ./essentials.jl:710 [inlined]",
      " [6] invokelatest at ./essentials.jl:709 [inlined]",
      " [7] eventloop(::ZMQ.Socket) at /home/mbesancon/.julia/packages/IJulia/a1SNk/src/eventloop.jl:8",
      " [8] (::IJulia.var\"#15#18\")() at ./task.jl:356"
     ]
    }
   ],
   "source": [
    "passportdata = CSV.read(joinpath(data_dir, \"passport-index-matrix.csv\"), copycols = true)\n",
    "\n",
    "for i in 1:nrow(passportdata)\n",
    "    for j in 2:ncol(passportdata)\n",
    "        if passportdata[i,j] == -1 || passportdata[i,j] == 3\n",
    "            passportdata[i,j] = 1\n",
    "        else\n",
    "            passportdata[i,j] = 0\n",
    "        end\n",
    "    end\n",
    "end"
   ]
  },
  {
   "cell_type": "markdown",
   "metadata": {},
   "source": [
    "The values in the cells now represent:\n",
    "* 1 = no visa required for travel\n",
    "* 0 = visa required for travel"
   ]
  },
  {
   "cell_type": "markdown",
   "metadata": {},
   "source": [
    "Let us assossciate each passport with a decision variable $pass_{cntr}$ for each country. \n",
    "We want to minize the sum $\\sum pass_{cntr}$ over all countries."
   ]
  },
  {
   "cell_type": "markdown",
   "metadata": {},
   "source": [
    "Since we wish to visit all the countries, for every country, \n",
    "we should own atleast one passport that lets us travel to that country visa free. \n",
    "For one destination, this can be mathematically represented as $\\sum_{cntr \\in world} passportdata_{cntr,dest} \\cdot pass_{cntr} \\geq 1$."
   ]
  },
  {
   "cell_type": "markdown",
   "metadata": {},
   "source": [
    "Thus, we can represent this problem using the following model:"
   ]
  },
  {
   "cell_type": "markdown",
   "metadata": {},
   "source": [
    "$$\n",
    "\\begin{align*}\n",
    "\\min && \\sum_{cntr \\in World} pass_{cntr} \\\\\n",
    "\\text{s.t.} && \\sum_{cntr \\in World} passportdata_{cntr,dest} \\cdot pass_{cntr} \\geq 1 && \\forall dest \\in World \\\\\n",
    "&& pass_{cntr} \\in \\{0,1\\} && \\forall cntr \\in World\n",
    "\\end{align*}\n",
    "$$"
   ]
  },
  {
   "cell_type": "markdown",
   "metadata": {},
   "source": [
    "We'll now solve the problem using JuMP."
   ]
  },
  {
   "cell_type": "code",
   "execution_count": 27,
   "metadata": {},
   "outputs": [
    {
     "name": "stderr",
     "output_type": "stream",
     "text": [
      "┌ Info: Precompiling JuMP [4076af6c-e467-56ae-b986-b466b2749572]\n",
      "└ @ Base loading.jl:1278\n",
      "┌ Info: Precompiling GLPK [60bf3e95-4087-53dc-ae20-288a0d20c6a6]\n",
      "└ @ Base loading.jl:1278\n"
     ]
    },
    {
     "ename": "LoadError",
     "evalue": "UndefVarError: passportdata not defined",
     "output_type": "error",
     "traceback": [
      "UndefVarError: passportdata not defined",
      "",
      "Stacktrace:",
      " [1] top-level scope at In[27]:4",
      " [2] include_string(::Function, ::Module, ::String, ::String) at ./loading.jl:1091",
      " [3] execute_code(::String, ::String) at /home/mbesancon/.julia/packages/IJulia/a1SNk/src/execute_request.jl:27",
      " [4] execute_request(::ZMQ.Socket, ::IJulia.Msg) at /home/mbesancon/.julia/packages/IJulia/a1SNk/src/execute_request.jl:86",
      " [5] #invokelatest#1 at ./essentials.jl:710 [inlined]",
      " [6] invokelatest at ./essentials.jl:709 [inlined]",
      " [7] eventloop(::ZMQ.Socket) at /home/mbesancon/.julia/packages/IJulia/a1SNk/src/eventloop.jl:8",
      " [8] (::IJulia.var\"#15#18\")() at ./task.jl:356"
     ]
    }
   ],
   "source": [
    "using JuMP, GLPK\n",
    "\n",
    "# Finding number of countries\n",
    "n = ncol(passportdata) - 1 # Subtract 1 for column representing country of passport\n",
    "\n",
    "model = Model(GLPK.Optimizer)\n",
    "@variable(model, pass[1:n], Bin)\n",
    "@constraint(model, [j = 2:n], sum(passportdata[i,j] * pass[i] for i in 1:n) >= 1)\n",
    "@objective(model, Min, sum(pass))\n",
    "optimize!(model)\n",
    "\n",
    "println(\"Minimum number of passports needed: \", objective_value(model))"
   ]
  },
  {
   "cell_type": "code",
   "execution_count": 28,
   "metadata": {},
   "outputs": [
    {
     "ename": "LoadError",
     "evalue": "UndefVarError: pass not defined",
     "output_type": "error",
     "traceback": [
      "UndefVarError: pass not defined",
      "",
      "Stacktrace:",
      " [1] top-level scope at In[28]:1",
      " [2] include_string(::Function, ::Module, ::String, ::String) at ./loading.jl:1091",
      " [3] execute_code(::String, ::String) at /home/mbesancon/.julia/packages/IJulia/a1SNk/src/execute_request.jl:27",
      " [4] execute_request(::ZMQ.Socket, ::IJulia.Msg) at /home/mbesancon/.julia/packages/IJulia/a1SNk/src/execute_request.jl:86",
      " [5] #invokelatest#1 at ./essentials.jl:710 [inlined]",
      " [6] invokelatest at ./essentials.jl:709 [inlined]",
      " [7] eventloop(::ZMQ.Socket) at /home/mbesancon/.julia/packages/IJulia/a1SNk/src/eventloop.jl:8",
      " [8] (::IJulia.var\"#15#18\")() at ./task.jl:356"
     ]
    }
   ],
   "source": [
    "countryindex = findall(value.(pass) .== 1 )\n",
    "\n",
    "print(\"Countries: \")\n",
    "for i in countryindex\n",
    "    print(names(passportdata)[i+1], \" \")\n",
    "end"
   ]
  }
 ],
 "metadata": {
  "kernelspec": {
   "display_name": "Julia 1.5.1",
   "language": "julia",
   "name": "julia-1.5"
  },
  "language_info": {
   "file_extension": ".jl",
   "mimetype": "application/julia",
   "name": "julia",
   "version": "1.5.1"
  }
 },
 "nbformat": 4,
 "nbformat_minor": 2
}
