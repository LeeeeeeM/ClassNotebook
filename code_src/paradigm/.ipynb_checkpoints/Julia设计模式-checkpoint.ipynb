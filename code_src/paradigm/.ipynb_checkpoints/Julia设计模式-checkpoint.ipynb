{
 "cells": [
  {
   "cell_type": "markdown",
   "metadata": {},
   "source": [
    "# Julia设计模式\n",
    "* 复用性模式\n",
    "    * 代表团模式\n",
    "    * 神圣特性模式\n",
    "    * parametric type pattern\n",
    " "
   ]
  },
  {
   "cell_type": "markdown",
   "metadata": {},
   "source": [
    "### The parametric type pattern\n",
    "参数化类型是一个语言用参数具象化数据的一个核心特性。"
   ]
  },
  {
   "cell_type": "markdown",
   "metadata": {},
   "source": [
    "## 性能模式\n",
    "Julia编程语言能让我们充分地调用CPU的资源，只要遵守一些规则，我们就能让程序的运行速度更加快速。\n",
    "以下是性能模式列表：\n",
    "* Global constant\n",
    "* Struct of arrays\n",
    "* Shared arrays\n",
    "* Memoization\n",
    "* Barrier function\n",
    "\n",
    "同样我在网络上找到了一篇讲述如何优化julia运行性能的文章，大家可以去参考一下：https://techytok.com/code-optimisation-in-julia/\n",
    "\n",
    "那么开始吧~"
   ]
  },
  {
   "cell_type": "markdown",
   "metadata": {},
   "source": [
    "### 全局常数模式\n",
    "Julia中，变量要不在全局作用域要不就在局部作用域。\n",
    "模块顶层中的所有被声明的变量都是全局变量。而函数中声明的变量则是局部的。一般来说，假设一个应用程序调用了外部系统的一个对象，我们不妨称外部对象为handler，那么在程序中，我们会初始化handler为全局变量，因为这样做，外部模块中的所有函数都能够被直接访问。。这是一个便利的因素。\n",
    "\n",
    "然而，全局变量的声明必然伴随着性能的损失，这会影响到整个程序的性能。所以如何正确地声明全局变量算是门学问。\n",
    "\n",
    "下面让我们来看看使用全局变量会对性能造成怎样的损失"
   ]
  },
  {
   "cell_type": "markdown",
   "metadata": {},
   "source": [
    "using BenchmarkTools\n",
    "\n",
    "variable = 10\n",
    "\n",
    "function add_using_global_variable(x)\n",
    "    return x + variable\n",
    "end"
   ]
  },
  {
   "cell_type": "code",
   "execution_count": 3,
   "metadata": {},
   "outputs": [
    {
     "name": "stdout",
     "output_type": "stream",
     "text": [
      "  23.169 ns (0 allocations: 0 bytes)\n"
     ]
    }
   ],
   "source": [
    "@btime add_using_global_variable(10);"
   ]
  },
  {
   "cell_type": "code",
   "execution_count": 4,
   "metadata": {},
   "outputs": [
    {
     "data": {
      "text/plain": [
       "add_using_function_arg (generic function with 1 method)"
      ]
     },
     "execution_count": 4,
     "metadata": {},
     "output_type": "execute_result"
    }
   ],
   "source": [
    "# 不引用全局变量进行对比\n",
    "function add_using_function_arg(x, y)\n",
    "    return x + y\n",
    "end"
   ]
  },
  {
   "cell_type": "code",
   "execution_count": 5,
   "metadata": {},
   "outputs": [
    {
     "name": "stdout",
     "output_type": "stream",
     "text": [
      "  0.001 ns (0 allocations: 0 bytes)\n"
     ]
    }
   ],
   "source": [
    "@btime add_using_function_arg(10, 10);"
   ]
  },
  {
   "cell_type": "markdown",
   "metadata": {},
   "source": [
    "unbelievable！快了多少倍呀这~\n",
    "\n",
    "那同学们一定想探索本源，看看为何会快这么多，这么想是对的，因为只有这样做咱们的印象才会深刻。由于Julia是LLVM即时编译的，所以我们可以用内建内省工具**introspection**来看生成的LLVM代码。"
   ]
  },
  {
   "cell_type": "code",
   "execution_count": 6,
   "metadata": {},
   "outputs": [
    {
     "name": "stdout",
     "output_type": "stream",
     "text": [
      "\n",
      ";  @ In[4]:3 within `add_using_function_arg'\n",
      "; Function Attrs: uwtable\n",
      "define i64 @julia_add_using_function_arg_17964(i64, i64) #0 {\n",
      "top:\n",
      "; ┌ @ int.jl:53 within `+'\n",
      "   %2 = add i64 %1, %0\n",
      "; └\n",
      "  ret i64 %2\n",
      "}\n"
     ]
    }
   ],
   "source": [
    "@code_llvm add_using_function_arg(10, 10)"
   ]
  },
  {
   "cell_type": "code",
   "execution_count": 7,
   "metadata": {},
   "outputs": [
    {
     "name": "stdout",
     "output_type": "stream",
     "text": [
      "\n",
      ";  @ In[2]:6 within `add_using_global_variable'\n",
      "; Function Attrs: uwtable\n",
      "define nonnull %jl_value_t addrspace(10)* @julia_add_using_global_variable_17874(i64) #0 {\n",
      "top:\n",
      "  %1 = alloca %jl_value_t addrspace(10)*, i32 2\n",
      "  %gcframe = alloca %jl_value_t addrspace(10)*, i32 4, align 16\n",
      "  %2 = bitcast %jl_value_t addrspace(10)** %gcframe to i8*\n",
      "  call void @llvm.memset.p0i8.i32(i8* align 16 %2, i8 0, i32 32, i1 false)\n",
      "  %3 = call %jl_value_t*** inttoptr (i64 1720670528 to %jl_value_t*** ()*)() #6\n",
      "  %4 = getelementptr %jl_value_t addrspace(10)*, %jl_value_t addrspace(10)** %gcframe, i32 0\n",
      "  %5 = bitcast %jl_value_t addrspace(10)** %4 to i64*\n",
      "  store i64 8, i64* %5\n",
      "  %6 = getelementptr %jl_value_t**, %jl_value_t*** %3, i32 0\n",
      "  %7 = getelementptr %jl_value_t addrspace(10)*, %jl_value_t addrspace(10)** %gcframe, i32 1\n",
      "  %8 = bitcast %jl_value_t addrspace(10)** %7 to %jl_value_t***\n",
      "  %9 = load %jl_value_t**, %jl_value_t*** %6\n",
      "  store %jl_value_t** %9, %jl_value_t*** %8\n",
      "  %10 = bitcast %jl_value_t*** %6 to %jl_value_t addrspace(10)***\n",
      "  store %jl_value_t addrspace(10)** %gcframe, %jl_value_t addrspace(10)*** %10\n",
      "  %11 = load %jl_value_t addrspace(10)*, %jl_value_t addrspace(10)** inttoptr (i64 791093240 to %jl_value_t addrspace(10)**), align 8\n",
      "  %12 = getelementptr %jl_value_t addrspace(10)*, %jl_value_t addrspace(10)** %gcframe, i32 2\n",
      "  store %jl_value_t addrspace(10)* %11, %jl_value_t addrspace(10)** %12\n",
      "  %13 = call %jl_value_t addrspace(10)* @jl_box_int64(i64 signext %0)\n",
      "  %14 = getelementptr %jl_value_t addrspace(10)*, %jl_value_t addrspace(10)** %gcframe, i32 3\n",
      "  store %jl_value_t addrspace(10)* %13, %jl_value_t addrspace(10)** %14\n",
      "  %15 = getelementptr %jl_value_t addrspace(10)*, %jl_value_t addrspace(10)** %1, i32 0\n",
      "  store %jl_value_t addrspace(10)* %13, %jl_value_t addrspace(10)** %15\n",
      "  %16 = getelementptr %jl_value_t addrspace(10)*, %jl_value_t addrspace(10)** %1, i32 1\n",
      "  store %jl_value_t addrspace(10)* %11, %jl_value_t addrspace(10)** %16\n",
      "  %17 = call nonnull %jl_value_t addrspace(10)* @jl_apply_generic(%jl_value_t addrspace(10)* addrspacecast (%jl_value_t* inttoptr (i64 190125408 to %jl_value_t*) to %jl_value_t addrspace(10)*), %jl_value_t addrspace(10)** %1, i32 2)\n",
      "  %18 = getelementptr %jl_value_t addrspace(10)*, %jl_value_t addrspace(10)** %gcframe, i32 1\n",
      "  %19 = load %jl_value_t addrspace(10)*, %jl_value_t addrspace(10)** %18\n",
      "  %20 = getelementptr %jl_value_t**, %jl_value_t*** %3, i32 0\n",
      "  %21 = bitcast %jl_value_t*** %20 to %jl_value_t addrspace(10)**\n",
      "  store %jl_value_t addrspace(10)* %19, %jl_value_t addrspace(10)** %21\n",
      "  ret %jl_value_t addrspace(10)* %17\n",
      "}\n"
     ]
    }
   ],
   "source": [
    "# 可以看到上面的生成的代码只有add一个指令，再来看一下另一个慢的生成的丑陋的代码\n",
    "# 前方高能,可不要被吓着哦~\n",
    "@code_llvm add_using_global_variable(10)"
   ]
  },
  {
   "cell_type": "markdown",
   "metadata": {},
   "source": [
    "。。。怎么样，有没有被吓到。\n",
    "简单来说，为什么会生成那么多代码呢，是因为我们声明的是变量，变量随时能够变化，这意味着编译器必须生成能够处理任意数据类型的代码才能stay on the safe side。\n",
    "所以还是那句话，灵活性本身必定伴随着巨大的开销。\n",
    "问题怎么解决？很显然，定义常量，让我们来测试一波吧~"
   ]
  },
  {
   "cell_type": "code",
   "execution_count": 8,
   "metadata": {},
   "outputs": [
    {
     "data": {
      "text/plain": [
       "add_using_global_constant (generic function with 1 method)"
      ]
     },
     "execution_count": 8,
     "metadata": {},
     "output_type": "execute_result"
    }
   ],
   "source": [
    "const constant = 10\n",
    "\n",
    "function add_using_global_constant(x)\n",
    "    return constant + x\n",
    "end"
   ]
  },
  {
   "cell_type": "code",
   "execution_count": 9,
   "metadata": {},
   "outputs": [
    {
     "name": "stdout",
     "output_type": "stream",
     "text": [
      "  0.001 ns (0 allocations: 0 bytes)\n"
     ]
    }
   ],
   "source": [
    "@btime add_using_global_constant(10);"
   ]
  },
  {
   "cell_type": "markdown",
   "metadata": {},
   "source": [
    "话又说回来了，我们有时候无可避免地需要定义变量，那怎样做可以提升使用变量时的性能呢？\n",
    "\n",
    "**答： 标注类型信息**\n",
    "\n",
    "注意，Julia中全局变量还不支持使用类型声明的方法，因此我们需要在函数定义中去声明。"
   ]
  },
  {
   "cell_type": "code",
   "execution_count": 10,
   "metadata": {},
   "outputs": [
    {
     "data": {
      "text/plain": [
       "add_using_global_variable_typed (generic function with 1 method)"
      ]
     },
     "execution_count": 10,
     "metadata": {},
     "output_type": "execute_result"
    }
   ],
   "source": [
    "function add_using_global_variable_typed(x)\n",
    "    return x + variable::Int\n",
    "end\n"
   ]
  },
  {
   "cell_type": "code",
   "execution_count": 11,
   "metadata": {},
   "outputs": [
    {
     "name": "stdout",
     "output_type": "stream",
     "text": [
      "  4.999 ns (0 allocations: 0 bytes)\n"
     ]
    }
   ],
   "source": [
    "variable = 10\n",
    "\n",
    "@btime add_using_global_variable_typed(10);"
   ]
  },
  {
   "cell_type": "markdown",
   "metadata": {},
   "source": [
    "下面演示一个全局变量的优化方法——“**全局变量占位符（global variable placeholder）**”\n",
    "\n",
    "Julia的代码会被Julia编译器拿去进行优化，所以我们可以使用常量占位符来存储具体的值。"
   ]
  },
  {
   "cell_type": "code",
   "execution_count": 12,
   "metadata": {},
   "outputs": [
    {
     "name": "stdout",
     "output_type": "stream",
     "text": [
      "  0.001 ns (0 allocations: 0 bytes)\n"
     ]
    },
    {
     "data": {
      "text/plain": [
       "20"
      ]
     },
     "execution_count": 12,
     "metadata": {},
     "output_type": "execute_result"
    }
   ],
   "source": [
    "const semi_constant = Ref(10)\n",
    "\n",
    "function add_using_global_semi_constant(x)\n",
    "    return x + semi_constant[]\n",
    "end\n",
    "\n",
    "# to fetch the value inside a Red object，we can just use index operator with no argument.\n",
    "@btime add_using_global_constant(10)"
   ]
  },
  {
   "cell_type": "code",
   "execution_count": 13,
   "metadata": {},
   "outputs": [
    {
     "data": {
      "text/plain": [
       "20"
      ]
     },
     "execution_count": 13,
     "metadata": {},
     "output_type": "execute_result"
    }
   ],
   "source": [
    "# 这个常量是可以进行更改的，所以可以模拟为变量\n",
    "semi_constant[] = 20"
   ]
  },
  {
   "cell_type": "code",
   "execution_count": 14,
   "metadata": {},
   "outputs": [
    {
     "data": {
      "text/plain": [
       "Base.RefValue{Array{Int64,1}}([1])"
      ]
     },
     "execution_count": 14,
     "metadata": {},
     "output_type": "execute_result"
    }
   ],
   "source": [
    "const list = Ref([1])\n",
    "list"
   ]
  },
  {
   "cell_type": "code",
   "execution_count": 15,
   "metadata": {},
   "outputs": [
    {
     "data": {
      "text/plain": [
       "1-element Array{Int64,1}:\n",
       " 1"
      ]
     },
     "execution_count": 15,
     "metadata": {},
     "output_type": "execute_result"
    }
   ],
   "source": [
    "list[]"
   ]
  },
  {
   "cell_type": "code",
   "execution_count": 17,
   "metadata": {},
   "outputs": [
    {
     "data": {
      "text/plain": [
       "2-element Array{Int64,1}:\n",
       " 1\n",
       " 2"
      ]
     },
     "execution_count": 17,
     "metadata": {},
     "output_type": "execute_result"
    }
   ],
   "source": [
    "list[] = [1, 2]"
   ]
  },
  {
   "cell_type": "markdown",
   "metadata": {},
   "source": [
    "### 数组结构模式\n",
    "如何高效地利用CPU，希望通过下面的例子进行讲解。这个文件所在的目录下有一份纽约市计程车的CSV数据，具体的format可以打开来查看。现在我们希望将CSV里的数据转入Julia变量中，并用struct进行封装。\n",
    "\n",
    "我们首先使用CSV.jl定义一个读取表的函数："
   ]
  },
  {
   "cell_type": "code",
   "execution_count": 1,
   "metadata": {},
   "outputs": [],
   "source": [
    "struct TripPayment\n",
    "    vendor_id::Int\n",
    "    tpep_pickup_datetime::String\n",
    "    tpep_dropoff_datetime::String\n",
    "    passenger_count::Int\n",
    "    trip_distance::Float64\n",
    "    fare_amount::Float64\n",
    "    extra::Float64\n",
    "    mta_tax::Float64\n",
    "    tip_amount::Float64\n",
    "    tolls_amount::Float64\n",
    "    improvement_surcharge::Float64\n",
    "    total_amount::Float64\n",
    "end"
   ]
  },
  {
   "cell_type": "code",
   "execution_count": 4,
   "metadata": {},
   "outputs": [
    {
     "data": {
      "text/plain": [
       "read_trip_payment_file (generic function with 1 method)"
      ]
     },
     "execution_count": 4,
     "metadata": {},
     "output_type": "execute_result"
    }
   ],
   "source": [
    "# 此处的datarow = 3代表\n",
    "function read_trip_payment_file(file)\n",
    "    f = CSV.File(file, datarow = 2)\n",
    "    records = Vector{TripPayment}(undef, length(f))\n",
    "    for (i, row) in enumerate(f)\n",
    "        records[i] = TripPayment(row.VendorID,\n",
    "            row.tpep_pickup_datetime,\n",
    "            row.tpep_dropoff_datetime,\n",
    "            row.passenger_count,\n",
    "            row.trip_distance,\n",
    "            row.fare_amount,\n",
    "            row.extra,\n",
    "            row.mta_tax,\n",
    "            row.tip_amount,\n",
    "            row.tolls_amount,\n",
    "            row.improvement_surcharge,\n",
    "            row.total_amount)\n",
    "    end\n",
    "    return records\n",
    "end"
   ]
  },
  {
   "cell_type": "code",
   "execution_count": 5,
   "metadata": {},
   "outputs": [
    {
     "data": {
      "text/plain": [
       "100000-element Array{TripPayment,1}:\n",
       " TripPayment(2, \"08/16/2018 08:19:06 PM\", \"08/16/2018 08:26:01 PM\", 3, 1.19, 6.5, 0.5, 0.5, 1.56, 0.0, 0.3, 9.36)\n",
       " TripPayment(2, \"08/16/2018 08:27:47 PM\", \"08/16/2018 08:41:43 PM\", 4, 2.32, 11.0, 0.5, 0.5, 2.46, 0.0, 0.3, 14.76)\n",
       " TripPayment(2, \"08/16/2018 08:52:33 PM\", \"08/16/2018 08:57:27 PM\", 2, 1.38, 6.5, 0.5, 0.5, 0.0, 0.0, 0.3, 7.8)\n",
       " TripPayment(2, \"08/16/2018 08:00:00 PM\", \"08/16/2018 08:22:00 PM\", 5, 4.47, 18.5, 0.5, 0.5, 2.97, 0.0, 0.3, 22.77)\n",
       " TripPayment(2, \"08/16/2018 08:50:09 PM\", \"08/16/2018 09:03:56 PM\", 5, 3.11, 13.0, 0.5, 0.5, 1.7, 0.0, 0.3, 16.0)\n",
       " TripPayment(2, \"08/16/2018 08:11:55 PM\", \"08/16/2018 08:25:24 PM\", 1, 2.44, 11.0, 0.5, 0.5, 2.46, 0.0, 0.3, 14.76)\n",
       " TripPayment(2, \"08/16/2018 08:55:53 PM\", \"08/16/2018 09:02:02 PM\", 1, 1.15, 6.5, 0.5, 0.5, 1.56, 0.0, 0.3, 9.36)\n",
       " TripPayment(1, \"08/16/2018 08:13:56 PM\", \"08/16/2018 08:17:41 PM\", 2, 0.7, 4.5, 0.5, 0.5, 0.0, 0.0, 0.3, 5.8)\n",
       " TripPayment(1, \"08/16/2018 08:22:14 PM\", \"08/16/2018 08:48:53 PM\", 2, 4.8, 20.0, 0.5, 0.5, 3.7, 0.0, 0.3, 25.0)\n",
       " TripPayment(2, \"08/16/2018 08:12:37 PM\", \"08/16/2018 08:25:23 PM\", 6, 2.74, 11.0, 0.5, 0.5, 0.0, 0.0, 0.3, 12.3)\n",
       " TripPayment(2, \"08/16/2018 08:28:40 PM\", \"08/16/2018 08:46:41 PM\", 6, 2.5, 13.0, 0.5, 0.5, 1.43, 0.0, 0.3, 15.73)\n",
       " TripPayment(2, \"08/16/2018 08:54:34 PM\", \"08/16/2018 09:20:41 PM\", 6, 5.81, 21.5, 0.5, 0.5, 4.56, 0.0, 0.3, 27.36)\n",
       " TripPayment(2, \"08/16/2018 08:01:07 PM\", \"08/16/2018 08:21:25 PM\", 6, 4.95, 19.5, 0.5, 0.5, 0.0, 0.0, 0.3, 20.8)\n",
       " ⋮\n",
       " TripPayment(2, \"08/17/2018 07:55:04 AM\", \"08/17/2018 07:58:02 AM\", 1, 0.47, 4.0, 0.0, 0.5, 0.5, 0.0, 0.3, 5.3)\n",
       " TripPayment(1, \"08/17/2018 07:00:55 AM\", \"08/17/2018 07:13:42 AM\", 1, 5.9, 18.0, 0.0, 0.5, 3.75, 0.0, 0.3, 22.55)\n",
       " TripPayment(1, \"08/17/2018 07:15:08 AM\", \"08/17/2018 07:28:56 AM\", 1, 3.1, 13.0, 0.0, 0.5, 2.75, 0.0, 0.3, 16.55)\n",
       " TripPayment(1, \"08/17/2018 07:50:09 AM\", \"08/17/2018 08:04:52 AM\", 1, 2.7, 12.0, 0.0, 0.5, 2.55, 0.0, 0.3, 15.35)\n",
       " TripPayment(1, \"08/17/2018 07:19:58 AM\", \"08/17/2018 07:28:01 AM\", 1, 0.8, 7.0, 0.0, 0.5, 0.0, 0.0, 0.3, 7.8)\n",
       " TripPayment(1, \"08/17/2018 07:00:16 AM\", \"08/17/2018 07:04:44 AM\", 1, 0.6, 5.0, 0.0, 0.5, 1.7, 0.0, 0.3, 7.5)\n",
       " TripPayment(1, \"08/17/2018 07:56:08 AM\", \"08/17/2018 07:58:44 AM\", 1, 0.4, 4.0, 0.0, 0.5, 0.0, 0.0, 0.3, 4.8)\n",
       " TripPayment(2, \"08/17/2018 07:13:18 AM\", \"08/17/2018 07:47:12 AM\", 1, 15.62, 43.0, 0.0, 0.5, 10.95, 0.0, 0.3, 54.75)\n",
       " TripPayment(2, \"08/17/2018 07:41:38 AM\", \"08/17/2018 07:53:58 AM\", 1, 1.94, 10.0, 0.0, 0.5, 2.16, 0.0, 0.3, 12.96)\n",
       " TripPayment(2, \"08/17/2018 07:55:04 AM\", \"08/17/2018 08:35:34 AM\", 5, 17.06, 52.0, 0.0, 0.5, 11.71, 5.76, 0.3, 70.27)\n",
       " TripPayment(2, \"08/17/2018 07:24:48 AM\", \"08/17/2018 07:28:35 AM\", 1, 1.06, 5.5, 0.0, 0.5, 1.89, 0.0, 0.3, 8.19)\n",
       " TripPayment(1, \"08/17/2018 07:04:25 AM\", \"08/17/2018 07:12:50 AM\", 1, 0.9, 7.0, 0.0, 0.5, 0.4, 0.0, 0.3, 8.2)"
      ]
     },
     "execution_count": 5,
     "metadata": {},
     "output_type": "execute_result"
    }
   ],
   "source": [
    "import CSV\n",
    "records = read_trip_payment_file(\"tripdata.csv\")"
   ]
  },
  {
   "cell_type": "code",
   "execution_count": 8,
   "metadata": {},
   "outputs": [
    {
     "data": {
      "text/plain": [
       "1.3142950000000019e6"
      ]
     },
     "execution_count": 8,
     "metadata": {},
     "output_type": "execute_result"
    }
   ],
   "source": [
    "using DataFrames\n",
    "# 我们试着计算一个字段的总和值\n",
    "sum(r.fare_amount for r in records)"
   ]
  },
  {
   "cell_type": "markdown",
   "metadata": {},
   "source": [
    "上面那行代码理所应当比较快\n",
    "\n",
    "因为我们使用了生成器语法（类似列表推导式），这样做有一个好处就是在空间效率上较高，因为该操作避免了为中间值分配内存。\n",
    "尽管如此，我们仍旧需要读取每条记录的fare_amount字段，让我们做个benchmark。"
   ]
  },
  {
   "cell_type": "code",
   "execution_count": 10,
   "metadata": {},
   "outputs": [
    {
     "name": "stdout",
     "output_type": "stream",
     "text": [
      "  670.499 μs (2 allocations: 32 bytes)\n"
     ]
    },
    {
     "data": {
      "text/plain": [
       "1.3142950000000019e6"
      ]
     },
     "execution_count": 10,
     "metadata": {},
     "output_type": "execute_result"
    }
   ],
   "source": [
    "@btime sum(r.fare_amount for r in records)"
   ]
  },
  {
   "cell_type": "code",
   "execution_count": 11,
   "metadata": {},
   "outputs": [
    {
     "name": "stdout",
     "output_type": "stream",
     "text": [
      "  14.100 μs (1 allocation: 16 bytes)\n"
     ]
    },
    {
     "data": {
      "text/plain": [
       "1.314295e6"
      ]
     },
     "execution_count": 11,
     "metadata": {},
     "output_type": "execute_result"
    }
   ],
   "source": [
    "# 我们怎样为该计算做优化呢？简单来说，拆开来做就是了~\n",
    "fare_amounts = [r.fare_amount for r in records]\n",
    "\n",
    "@btime sum(fare_amounts)"
   ]
  },
  {
   "cell_type": "markdown",
   "metadata": {},
   "source": [
    "简单来说，这个trick是因为我们使用了Julia array，julia array是dense arrays，这充分利用了CPU的构造。数据被存储在了一个连续的内存块当中，使得编译器能够完全优化计算。\n",
    "所以我们要充分地利用julia的array，做数据分析常用的DataFrame框架实际上也是对1维array-vector的一个封装，所以其性能也是非常优秀的。"
   ]
  },
  {
   "cell_type": "markdown",
   "metadata": {},
   "source": [
    "DenseArray是array类型的一个超类，分配了连续的内存，Julia是默认支持动态数组的，每次push数据的时候，他会为对象分配新的内存，这个分配内存的算法十分复杂，该算法保证了速度的同时也避免了内存的过度重新分配。\n",
    "\n",
    "下面讲讲如何释放结构化存储，查看占用空间，以及释放内存"
   ]
  },
  {
   "cell_type": "code",
   "execution_count": 18,
   "metadata": {},
   "outputs": [
    {
     "data": {
      "text/plain": [
       "100000-element Array{Float64,1}:\n",
       "  6.5\n",
       " 11.0\n",
       "  6.5\n",
       " 18.5\n",
       " 13.0\n",
       " 11.0\n",
       "  6.5\n",
       "  4.5\n",
       " 20.0\n",
       " 11.0\n",
       " 13.0\n",
       " 21.5\n",
       " 19.5\n",
       "  ⋮\n",
       "  4.0\n",
       " 18.0\n",
       " 13.0\n",
       " 12.0\n",
       "  7.0\n",
       "  5.0\n",
       "  4.0\n",
       " 43.0\n",
       " 10.0\n",
       " 52.0\n",
       "  5.5\n",
       "  7.0"
      ]
     },
     "execution_count": 18,
     "metadata": {},
     "output_type": "execute_result"
    }
   ],
   "source": [
    "using StructArrays\n",
    "sa = StructArray(records)\n",
    "\n",
    "# 现原数据结构已经被完整地copy下来了，不仅如此，我们还能直接引用该数据的一些字段\n",
    "sa.fare_amount"
   ]
  },
  {
   "cell_type": "code",
   "execution_count": 19,
   "metadata": {},
   "outputs": [
    {
     "data": {
      "text/plain": [
       "15.640296936035156"
      ]
     },
     "execution_count": 19,
     "metadata": {},
     "output_type": "execute_result"
    }
   ],
   "source": [
    "Base.summarysize(records) / 1024 /1024"
   ]
  },
  {
   "cell_type": "code",
   "execution_count": 20,
   "metadata": {},
   "outputs": [
    {
     "data": {
      "text/plain": [
       "14.877876281738281"
      ]
     },
     "execution_count": 20,
     "metadata": {},
     "output_type": "execute_result"
    }
   ],
   "source": [
    "Base.summarysize(sa) / 1024 /1024"
   ]
  },
  {
   "cell_type": "code",
   "execution_count": 21,
   "metadata": {},
   "outputs": [],
   "source": [
    "# 释放掉record\n",
    "records = nothing\n",
    "GC.gc()"
   ]
  },
  {
   "cell_type": "code",
   "execution_count": 23,
   "metadata": {},
   "outputs": [],
   "source": [
    "# 现在records已经是一个nothing了\n",
    "\n",
    "records"
   ]
  },
  {
   "cell_type": "markdown",
   "metadata": {},
   "source": [
    "### 共享内存数组模式\n",
    "看到标题，诸位大概能猜到这一部分的主题是分布式计算，简单来说就是将数据分析的任务分而治之，充分发挥多核处理器的能力。\n",
    "\n",
    "在函数式语言中，使用map-reduce来处理数据流程是常见的，被映射的可迭代对象对每个元素进行计算，而reduction进程则将每个子进程的结果合并。大数据分析中，Hadoop的计算使用同样的原理，不同之处在于它对多个机器进行了集群。\n",
    "\n",
    "不同的工作进程相互之间的通信是通过IPC进行的（Inter-Process-Communication）。\n",
    "Julia的标准库中有一个SharedArrays(之前的视频中用过，也是本部分的主角)的模块，它提供了操作系统共享内存以及内存map的接口。"
   ]
  },
  {
   "cell_type": "code",
   "execution_count": null,
   "metadata": {},
   "outputs": [],
   "source": []
  }
 ],
 "metadata": {
  "kernelspec": {
   "display_name": "Julia 1.4.2",
   "language": "julia",
   "name": "julia-1.4"
  },
  "language_info": {
   "file_extension": ".jl",
   "mimetype": "application/julia",
   "name": "julia",
   "version": "1.4.2"
  }
 },
 "nbformat": 4,
 "nbformat_minor": 4
}
