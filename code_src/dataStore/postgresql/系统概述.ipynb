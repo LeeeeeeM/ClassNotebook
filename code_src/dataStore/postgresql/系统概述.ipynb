{
 "cells": [
  {
   "cell_type": "markdown",
   "metadata": {},
   "source": [
    "## postgresql和mysql的区别\n",
    "首先mysql是RDBMS（relational database management system），主要应用在关系型数据模型上。\n",
    "而postgresql是ORDBMS（object-relational database management system），postgres开创了不少新的概念，它提供了对sql和nosql的支持。\n",
    "\n",
    "这两个数据库系统的主要区别在于：\n",
    "* postgresql支持一些现代特性：JSON，XML而mysql只支持JSON\n",
    "* 应对与复杂的查询，postgres表现较好，而mysql的强项则在于olap\n",
    "* postgresql对ACID事务有完整支持，而mysql则只是使用innodb和ndb时支持。\n",
    "* postgresql支持materialized views而mysql则不\n",
    "\n"
   ]
  },
  {
   "cell_type": "code",
   "execution_count": null,
   "metadata": {},
   "outputs": [],
   "source": []
  }
 ],
 "metadata": {
  "kernelspec": {
   "display_name": "Python 3",
   "language": "python",
   "name": "python3"
  },
  "language_info": {
   "codemirror_mode": {
    "name": "ipython",
    "version": 3
   },
   "file_extension": ".py",
   "mimetype": "text/x-python",
   "name": "python",
   "nbconvert_exporter": "python",
   "pygments_lexer": "ipython3",
   "version": "3.8.3"
  }
 },
 "nbformat": 4,
 "nbformat_minor": 4
}
