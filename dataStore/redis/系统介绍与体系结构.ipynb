{
 "cells": [
  {
   "cell_type": "markdown",
   "metadata": {},
   "source": [
    "# 系统介绍与体系结构\n",
    "---\n",
    "## 概论\n",
    "> 内容包含四个部分：\n",
    "* 数据结构与对象\n",
    "* 单机数据库的实现\n",
    "* 多机数据库实现\n",
    "* 独立功能"
   ]
  },
  {
   "cell_type": "markdown",
   "metadata": {},
   "source": [
    "### 数据结构与对象\n",
    "* 每个键值对都由对象组成\n",
    "* 键(key)必定是个字符串对象\n",
    "* 值(value)可以是字符串对象，列表对象，哈希对象，集合对象，有序集合中的任一种。\n",
    "\n",
    "### 单机数据库实现\n",
    "* “RDB持久化”，“AOF持久化”涉及到数据库和持久化文件的相互转化方法。\n",
    "* "
   ]
  },
  {
   "cell_type": "code",
   "execution_count": null,
   "metadata": {},
   "outputs": [],
   "source": [
    "###"
   ]
  }
 ],
 "metadata": {
  "kernelspec": {
   "display_name": "Python 3",
   "language": "python",
   "name": "python3"
  },
  "language_info": {
   "codemirror_mode": {
    "name": "ipython",
    "version": 3
   },
   "file_extension": ".py",
   "mimetype": "text/x-python",
   "name": "python",
   "nbconvert_exporter": "python",
   "pygments_lexer": "ipython3",
   "version": "3.7.6"
  }
 },
 "nbformat": 4,
 "nbformat_minor": 4
}
