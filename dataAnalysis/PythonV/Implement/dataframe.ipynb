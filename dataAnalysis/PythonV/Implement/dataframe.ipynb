{
 "cells": [
  {
   "cell_type": "code",
   "execution_count": 1,
   "metadata": {},
   "outputs": [],
   "source": [
    "import numpy as np"
   ]
  },
  {
   "cell_type": "code",
   "execution_count": null,
   "metadata": {},
   "outputs": [],
   "source": [
    "class DataFrame:\n",
    "    def __init__(self, data):\n",
    "        \"\"\"\n",
    "        A DataFrame holds two-dimensional heterogeneous data. Create it by\n",
    "        passing a dictionary of NumPy arrays to the values parameter\n",
    "\n",
    "        Parameters\n",
    "        ----------\n",
    "        data: dict\n",
    "            A dictionary of strings mapped to NumPy arrays. The key will\n",
    "            become the column name.\n",
    "        \"\"\"\n",
    "        #初始化数据的检查\n",
    "        # 检查输入的数据类型是否正常\n",
    "        self._check_input_types(data)\n",
    "\n",
    "        # 检查array是否等长\n",
    "        self._check_array_lengths(data)\n",
    "\n",
    "        # 将unicode array转化为对应的object\n",
    "        self._data = self._convert_unicode_to_object(data)\n",
    "\n",
    "        # 允许使用字符串的特殊方法\n",
    "        self.str = StringMethods(self)\n",
    "        self._add_docs()\n",
    "        \n",
    "    def _check_input_types(self, data):\n",
    "        if not isinstance(data, dict):\n",
    "            raise TypeError(\"`data` must be a dictionary of 1-D Numpy arrays\")\n",
    "        \n",
    "        for col_name, values in data.items():\n",
    "            if not isinstance(col_name, str):\n",
    "                raise TypeError('All column names must be a string')\n",
    "            if not isinstance(values, np.ndarray):\n",
    "                raise TypeError('ALL values must be a 1-D NumPy array')\n",
    "            else:\n",
    "                if values.ndim != 1:\n",
    "                    raise ValueError('Each value must be a 1-D NumPy array')\n",
    "                \n",
    "    def _check_array_lengths(self, data):\n",
    "        for i, values in enumerate(data.values()):\n",
    "            if i == 0:\n",
    "                length = len(values)\n",
    "            if length != len(values):\n",
    "                raise ValueError('All values must be the same length')\n",
    "        \n",
    "    def _convert_unicode_to_object(self, data):\n",
    "        new_data = {}\n",
    "        for i, values in enumerate(data.values()):\n",
    "            if values.dtype.kind == 'U':\n",
    "                new_data[col_name] = values.astype('0')\n",
    "            else:\n",
    "                new_data[col_name] = values\n",
    "        return new_data\n"
   ]
  },
  {
   "cell_type": "code",
   "execution_count": 5,
   "metadata": {},
   "outputs": [
    {
     "data": {
      "text/plain": [
       "'U'"
      ]
     },
     "execution_count": 5,
     "metadata": {},
     "output_type": "execute_result"
    }
   ],
   "source": [
    "name = np.array(['Penelope', 'Niko', 'Eleni'])\n",
    "state = np.array(['Texas', 'California', 'Texas'])\n",
    "height = np.array([3.6, 3.5, 5.2])\n",
    "school = np.array([True, False, True])\n",
    "weight = np.array([45, 40, 130])\n",
    "\n",
    "data = {'name': name, 'state': state, 'height': height, \n",
    "        'school': school, 'weight': weight}\n",
    "\n",
    "name.dtype.kind"
   ]
  },
  {
   "cell_type": "code",
   "execution_count": null,
   "metadata": {},
   "outputs": [],
   "source": []
  }
 ],
 "metadata": {
  "kernelspec": {
   "display_name": "Python 3",
   "language": "python",
   "name": "python3"
  },
  "language_info": {
   "codemirror_mode": {
    "name": "ipython",
    "version": 3
   },
   "file_extension": ".py",
   "mimetype": "text/x-python",
   "name": "python",
   "nbconvert_exporter": "python",
   "pygments_lexer": "ipython3",
   "version": "3.7.6"
  }
 },
 "nbformat": 4,
 "nbformat_minor": 4
}
