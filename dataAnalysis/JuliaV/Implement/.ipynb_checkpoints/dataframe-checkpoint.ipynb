{
 "cells": [
  {
   "cell_type": "code",
   "execution_count": 4,
   "metadata": {},
   "outputs": [],
   "source": [
    "# \n",
    "abstract type AbstractIndex end\n",
    "\n",
    "struct Index <: AbstractIndex\n",
    "    lookup::Dict{Symbol, Int}\n",
    "    names::Vector{Symbol}\n",
    "end\n",
    "\n",
    "function Index(names::AbstractVector{Symbol}; makeunique::Bool=false)\n",
    "    u = make_unique(names, makeunique=makeunique)\n",
    "    lookup = Dict{Symbol, Int}(zip(u, 1:length(u)))\n",
    "    return Index(lookup, u)\n",
    "end\n",
    "\n",
    "Index() = Index(Dict{Symbol, Int}(), Symbol[])\n",
    "Base.length(x::Index) = length(x.names)\n",
    "Base.names(x::Index) = string.(x.names)"
   ]
  },
  {
   "cell_type": "code",
   "execution_count": null,
   "metadata": {},
   "outputs": [],
   "source": [
    "abstract type AbstractDataFrame end\n",
    "struct DataFrame <: AbstractDataFrame\n",
    "    columns::Vector{AbstractVector}\n",
    "    colindex::Index\n",
    "    \n",
    "    #内部构造器\n",
    "    function DataFrame(columns::Union{Vector{Any}, Vector{AbstractVector}},\n",
    "        colindex::Index; copycols::Bool=true)\n",
    "        if length(columns) == length(colindex) == 0\n",
    "            return new(AbstractVector[], Index())\n",
    "        elseif length(columns) != length(colindex)\n",
    "            throw(DimensionMismatch(\"Number of columns ($(length(columns))) and number of\" *\n",
    "                    \" column names($(length(colindex)) are not equal\"))\n",
    "        end\n",
    "        \n",
    "        len = -1\n",
    "        firstvec = -1\n",
    "        for (i, col) in enumerate(columns)\n",
    "            if col isa AbstractVector\n",
    "                if len == -1\n",
    "                    len = length(col)\n",
    "                    firstvec = i\n",
    "                elseif len != length(col)\n",
    "                    n1 = _names(colindex)[firstvec]\n",
    "                    n2 = _names(colindex)[i]\n",
    "                    throw(DimensionMismatch(\"column :$n1 has length $len and column \" *\n",
    "                                            \":$n2 has length $(length(col))\"))\n",
    "                end\n",
    "            end\n",
    "        end\n",
    "        len == -1 && (len = 1)"
   ]
  },
  {
   "cell_type": "code",
   "execution_count": null,
   "metadata": {},
   "outputs": [],
   "source": [
    "# 测试用格子\n",
    "DataFrame()"
   ]
  },
  {
   "cell_type": "code",
   "execution_count": 5,
   "metadata": {},
   "outputs": [
    {
     "data": {
      "text/plain": [
       "Index(Dict{Symbol,Int64}(), Symbol[])"
      ]
     },
     "execution_count": 5,
     "metadata": {},
     "output_type": "execute_result"
    }
   ],
   "source": [
    "using Random\n",
    "DataFrame(A=1:3, B = rand(3), C = randstring.([3,3,3]), fixed=1)"
   ]
  },
  {
   "cell_type": "code",
   "execution_count": 27,
   "metadata": {},
   "outputs": [
    {
     "data": {
      "text/plain": [
       "false"
      ]
     },
     "execution_count": 27,
     "metadata": {},
     "output_type": "execute_result"
    }
   ],
   "source": [
    "true && false"
   ]
  },
  {
   "cell_type": "code",
   "execution_count": 22,
   "metadata": {},
   "outputs": [
    {
     "name": "stdout",
     "output_type": "stream",
     "text": [
      "1122334455"
     ]
    }
   ],
   "source": [
    "for (i, num) in enumerate([1,2,3,4,5])\n",
    "    print(i, num)\n",
    "end"
   ]
  },
  {
   "cell_type": "code",
   "execution_count": null,
   "metadata": {},
   "outputs": [],
   "source": []
  }
 ],
 "metadata": {
  "kernelspec": {
   "display_name": "Julia 1.4.2",
   "language": "julia",
   "name": "julia-1.4"
  },
  "language_info": {
   "file_extension": ".jl",
   "mimetype": "application/julia",
   "name": "julia",
   "version": "1.4.2"
  }
 },
 "nbformat": 4,
 "nbformat_minor": 4
}
