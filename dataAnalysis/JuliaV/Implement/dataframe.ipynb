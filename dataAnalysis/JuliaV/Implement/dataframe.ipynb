{
 "cells": [
  {
   "cell_type": "code",
   "execution_count": 1,
   "metadata": {},
   "outputs": [
    {
     "data": {
      "text/plain": [
       "make_unique! (generic function with 1 method)"
      ]
     },
     "execution_count": 1,
     "metadata": {},
     "output_type": "execute_result"
    }
   ],
   "source": [
    "# \n",
    "using TableTraits\n",
    "import Tables,Tables.columnindex\n",
    "using Random\n",
    "abstract type AbstractIndex end\n",
    "\n",
    "struct Index <: AbstractIndex\n",
    "    lookup::Dict{Symbol, Int}\n",
    "    names::Vector{Symbol}\n",
    "end\n",
    "\n",
    "function Index(names::AbstractVector{Symbol}; makeunique::Bool=false)\n",
    "    u = make_unique(names, makeunique=makeunique)\n",
    "    lookup = Dict{Symbol, Int}(zip(u, 1:length(u)))\n",
    "    return Index(lookup, u)\n",
    "end\n",
    "\n",
    "Index() = Index(Dict{Symbol, Int}(), Symbol[])\n",
    "Base.length(x::Index) = length(x.names)\n",
    "Base.names(x::Index) = string.(x.names)\n",
    "\n",
    "#make_unique方法\n",
    "function make_unique(names::AbstractVector{Symbol}; makeunique::Bool=false)\n",
    "    make_unique!(similar(names), names, makeunique=makeunique)\n",
    "end\n",
    "\n",
    "function make_unique!(names::Vector{Symbol}, src::AbstractVector{Symbol};\n",
    "                      makeunique::Bool=false)\n",
    "    if length(names) != length(src)\n",
    "        throw(DimensionMismatch(\"Length of src doesn't match length of names.\"))\n",
    "    end\n",
    "    seen = Set{Symbol}()\n",
    "    dups = Int[]\n",
    "    for i in 1:length(names)\n",
    "        name = src[i]\n",
    "        if in(name, seen)\n",
    "            push!(dups, i)\n",
    "        else\n",
    "            names[i] = src[i]\n",
    "            push!(seen, name)\n",
    "        end\n",
    "    end\n",
    "\n",
    "    if length(dups) > 0\n",
    "        if !makeunique\n",
    "            dupstr = join(string.(':', unique(src[dups])), \", \", \" and \")\n",
    "            msg = \"Duplicate variable names: $dupstr. Pass makeunique=true \" *\n",
    "                  \"to make them unique using a suffix automatically.\"\n",
    "            throw(ArgumentError(msg))\n",
    "        end\n",
    "    end\n",
    "\n",
    "    for i in dups\n",
    "        nm = src[i]\n",
    "        k = 1\n",
    "        while true\n",
    "            newnm = Symbol(\"$(nm)_$k\")\n",
    "            if !in(newnm, seen)\n",
    "                #如果已有已经见过的里面没有newnm的话...\n",
    "                names[i] = newnm\n",
    "                push!(seen, newnm)\n",
    "                break\n",
    "            end\n",
    "            k += 1\n",
    "        end\n",
    "    end\n",
    "\n",
    "    return names\n",
    "end"
   ]
  },
  {
   "cell_type": "code",
   "execution_count": 2,
   "metadata": {},
   "outputs": [
    {
     "data": {
      "text/plain": [
       "DataFrame"
      ]
     },
     "execution_count": 2,
     "metadata": {},
     "output_type": "execute_result"
    }
   ],
   "source": [
    "abstract type AbstractDataFrame end\n",
    "struct DataFrame <: AbstractDataFrame\n",
    "    columns::Vector{AbstractVector}\n",
    "    colindex::Index\n",
    "    \n",
    "    #内部构造器\n",
    "    function DataFrame(columns::Union{Vector{Any}, Vector{AbstractVector}},\n",
    "        colindex::Index; copycols::Bool=true)\n",
    "        if length(columns) == length(colindex) == 0\n",
    "            return new(AbstractVector[], Index())\n",
    "        elseif length(columns) != length(colindex)\n",
    "            throw(DimensionMismatch(\"Number of columns ($(length(columns))) and number of\" *\n",
    "                    \" column names($(length(colindex)) are not equal\"))\n",
    "        end\n",
    "        \n",
    "        len = -1\n",
    "        firstvec = -1\n",
    "        # 判断每个向量的长度是否相等（逐行迭代过去）\n",
    "        for (i, col) in enumerate(columns)\n",
    "            if col isa AbstractVector\n",
    "                if len == -1\n",
    "                    len = length(col)\n",
    "                    firstvec = i\n",
    "                elseif len != length(col)\n",
    "                    n1 = _names(colindex)[firstvec]\n",
    "                    n2 = _names(colindex)[i]\n",
    "                    throw(DimensionMismatch(\"column :$n1 has length $len and column \" *\n",
    "                                            \":$n2 has length $(length(col))\"))\n",
    "                end\n",
    "            end\n",
    "        end\n",
    "        # 如果len长度并没有边，那么说明，生成的是一个标量\n",
    "        len == -1 && (len = 1)\n",
    "\n",
    "        # we write into columns as we know that it is guaranteed\n",
    "        # that it was freshly allocated in the outer constructor\n",
    "        for (i, col) in enumerate(columns)\n",
    "            # check for vectors first as they are most common\n",
    "            if col isa AbstractRange\n",
    "                columns[i] = collect(col)\n",
    "            elseif col isa AbstractVector\n",
    "                columns[i] = copycols ? copy(col) : col\n",
    "            elseif col isa Union{AbstractArray{<:Any, 0}, Ref}\n",
    "                x = col[]\n",
    "                columns[i] = fill!(Tables.allocatecolumn(typeof(x), len), x)\n",
    "            else\n",
    "                if col isa AbstractArray\n",
    "                    throw(ArgumentError(\"adding AbstractArray other than AbstractVector\" *\n",
    "                                        \" as a column of a data frame is not allowed\"))\n",
    "                end\n",
    "                columns[i] = fill!(Tables.allocatecolumn(typeof(col), len), col)\n",
    "            end\n",
    "        end\n",
    "\n",
    "        new(convert(Vector{AbstractVector}, columns), colindex)\n",
    "    end\n",
    "end\n",
    "\n",
    "#参数和值，装箱\n",
    "function DataFrame(; kwargs...)\n",
    "    if isempty(kwargs)\n",
    "        DataFrame([], Index())\n",
    "    else\n",
    "        cnames = Symbol[]\n",
    "        columns = Any[]\n",
    "        copycols = true\n",
    "        for (kw, val) in kwargs\n",
    "            if kw == :copycols\n",
    "                if val isa Bool\n",
    "                    copycols = val\n",
    "                else\n",
    "                    throw(ArgumentError(\"the `copycols` keyword argument must be Boolean\"))\n",
    "                end\n",
    "            else\n",
    "                push!(cnames, kw)\n",
    "                push!(columns, val)\n",
    "            end\n",
    "        end\n",
    "        DataFrame(columns, Index(cnames), copycols=copycols)\n",
    "    end\n",
    "end\n",
    "\n"
   ]
  },
  {
   "cell_type": "code",
   "execution_count": 5,
   "metadata": {},
   "outputs": [
    {
     "data": {
      "text/plain": [
       "DataFrame"
      ]
     },
     "execution_count": 5,
     "metadata": {},
     "output_type": "execute_result"
    }
   ],
   "source": [
    "using Printf\n",
    "\n",
    "# 字典构造法\n",
    "function DataFrame(d::AbstractDict; copycols::Bool=true)\n",
    "    if isa(d, Dict)\n",
    "        colnames = sort!(collect(keys(d)))\n",
    "    else\n",
    "        colnames = keys(d)\n",
    "    end\n",
    "    colindex = Index([Symbol(k) for k in colnames])\n",
    "    columns = Any[d[c] for c in colnames]\n",
    "    DataFrame(columns, colindex, copycols = copycols)\n",
    "end\n",
    "\n",
    "# 应对字典对\n",
    "function DataFrame(pairs::Pair{Symbol,<:Any}...;makeunique::Bool=false,\n",
    "    copycols::Bool=true)::DataFrame\n",
    "    colnames = [Symbol(k) for (k, v) in pairs]\n",
    "    columns = Any[v for (k, v) in pairs]\n",
    "    return DataFrame(columns, Index(colnames, makeunique=makeunique), copycols=copycols)\n",
    "end\n",
    "\n",
    "# 应对纯Pairs\n",
    "function DataFrame(pairs::Pair{<:AbstractString,<:Any}...; makeunique::Bool=false,\n",
    "                   copycols::Bool=true)::DataFrame\n",
    "    colnames = [Symbol(k) for (k,v) in pairs]\n",
    "    columns = Any[v for (k,v) in pairs]\n",
    "    return DataFrame(columns, Index(colnames, makeunique=makeunique),\n",
    "                     copycols=copycols)\n",
    "end\n",
    "\n",
    "DataFrame(pairs::AbstractVector{<:Pair}; makeunique::Bool=false,\n",
    "    copycols::Bool=true) = \n",
    "    DataFrame(pairs..., makeunique=makeunique, copycols=copycols)\n",
    "\n",
    "function gennames(n::Integer)\n",
    "    res = Vector{Symbol}(undef, n)\n",
    "    for i in 1:n\n",
    "        res[i] = Symbol(@sprintf \"x%d\" i)\n",
    "    end\n",
    "    return res\n",
    "end\n",
    "\n",
    "DataFrame(columns::AbstractVector{<:AbstractVector},\n",
    "          cnames::AbstractVector{Symbol}=gennames(length(columns));\n",
    "          makeunique::Bool=false, copycols::Bool=true)::DataFrame =\n",
    "    DataFrame(collect(AbstractVector, columns),\n",
    "              Index(convert(Vector{Symbol}, cnames), makeunique=makeunique),\n",
    "              copycols=copycols)\n",
    "\n",
    "DataFrame(columns::AbstractVector{<:AbstractVector},\n",
    "          cnames::AbstractVector{<:AbstractString};\n",
    "          makeunique::Bool=false, copycols::Bool=true) =\n",
    "    DataFrame(columns, Symbol.(cnames); makeunique=makeunique, copycols=copycols)"
   ]
  },
  {
   "cell_type": "code",
   "execution_count": 24,
   "metadata": {},
   "outputs": [
    {
     "data": {
      "text/plain": [
       "DataFrame"
      ]
     },
     "execution_count": 24,
     "metadata": {},
     "output_type": "execute_result"
    }
   ],
   "source": [
    "DataFrame(columns::AbstractVector{<:AbstractVector},\n",
    "          cnames::AbstractVector{<:AbstractString};\n",
    "          makeunique::Bool=false, copycols::Bool=true) =\n",
    "    DataFrame(columns, Symbol.(cnames); makeunique=makeunique, copycols=copycols)\n",
    "\n",
    "DataFrame(columns::NTuple{N, AbstractVector}, cnames::NTuple{N, Symbol};\n",
    "          makeunique::Bool=false, copycols::Bool=true) where {N} =\n",
    "    DataFrame(collect(AbstractVector, columns), collect(Symbol, cnames),\n",
    "              makeunique=makeunique, copycols=copycols)\n",
    "\n",
    "DataFrame(columns::NTuple{N, AbstractVector}, cnames::NTuple{N, AbstractString};\n",
    "          makeunique::Bool=false, copycols::Bool=true) where {N} =\n",
    "    DataFrame(columns, Symbol.(cnames); makeunique=makeunique, copycols=copycols)\n",
    "\n",
    "DataFrame(columns::NTuple{N, AbstractVector}; copycols::Bool=true) where {N} =\n",
    "    DataFrame(collect(AbstractVector, columns), gennames(length(columns)),\n",
    "              copycols=copycols)\n",
    "\n",
    "DataFrame(columns::AbstractMatrix,\n",
    "          cnames::AbstractVector{Symbol} = gennames(size(columns, 2));\n",
    "          makeunique::Bool=false) =\n",
    "    DataFrame(AbstractVector[columns[:, i] for i in 1:size(columns, 2)], cnames,\n",
    "              makeunique=makeunique, copycols=false)\n",
    "\n",
    "DataFrame(columns::AbstractMatrix, cnames::AbstractVector{<:AbstractString};\n",
    "          makeunique::Bool=false) =\n",
    "    DataFrame(columns, Symbol.(cnames); makeunique=makeunique)\n",
    "\n",
    "function DataFrame(column_eltypes::AbstractVector{T}, cnames::AbstractVector{Symbol},\n",
    "                   nrows::Integer=0; makeunique::Bool=false)::DataFrame where T<:Type\n",
    "    columns = AbstractVector[elty >: Missing ?\n",
    "                             fill!(Tables.allocatecolumn(elty, nrows), missing) :\n",
    "                             Tables.allocatecolumn(elty, nrows)\n",
    "                             for elty in column_eltypes]\n",
    "    return DataFrame(columns, Index(convert(Vector{Symbol}, cnames),\n",
    "                     makeunique=makeunique), copycols=false)\n",
    "end\n",
    "\n",
    "DataFrame(column_eltypes::AbstractVector{<:Type},\n",
    "          cnames::AbstractVector{<:AbstractString},\n",
    "          nrows::Integer=0; makeunique::Bool=false) =\n",
    "    DataFrame(column_eltypes, Symbol.(cnames), nrows; makeunique=makeunique)"
   ]
  },
  {
   "cell_type": "code",
   "execution_count": 14,
   "metadata": {},
   "outputs": [
    {
     "data": {
      "text/plain": [
       "\"function DataFrame(x::T; copycols::Bool=true) where {T}\\n    if !Tables.istable(x)\\n        if x isa AbstractVector && all(col -> isa(col, AbstractVector), x)\\n            return DataFrame(Vector{AbstractVector}(x), copycols=copycols)\\n        elseif (x isa AbstractVector || x isa Tuple) &&\\n            all(v -> v isa Pair{Symbol, <:AbstractVector}, x)\\n            return DataFrame(AbstractVector[last(v) for v in x], [first(v) for v in x],\\n                             copycols=copycols)\\n        end\\n    end\\n    cols = Tables.columns(x)\\n    names = collect(Symbol, Tables.columnnames(cols))\\n    return fromcolumns(cols, names, copycols=copycols)\\nend\\n\""
      ]
     },
     "execution_count": 14,
     "metadata": {},
     "output_type": "execute_result"
    }
   ],
   "source": [
    "getvector(x::AbstractVector) = x\n",
    "getvector(x) = [x[i] for i = 1:length(x)]\n",
    "# note that copycols is ignored in this definition (Tables.CopiedColumns implies copies have already been made)\n",
    "fromcolumns(x::Tables.CopiedColumns, names; copycols::Bool=true) =\n",
    "    DataFrame(AbstractVector[getvector(Tables.getcolumn(x, nm)) for nm in names],\n",
    "              Index(names),\n",
    "              copycols=false)\n",
    "fromcolumns(x, names; copycols::Bool=true) =\n",
    "    DataFrame(AbstractVector[getvector(Tables.getcolumn(x, nm)) for nm in names],\n",
    "              Index(names),\n",
    "              copycols=copycols)\n",
    "\n",
    "DataFrame(x::AbstractVector{NamedTuple{names, T}}; copycols::Bool=true) where {names, T} =\n",
    "    fromcolumns(Tables.columns(Tables.IteratorWrapper(x)), collect(names), copycols=false)\n",
    "DataFrame!(x::AbstractVector{<:NamedTuple}) =\n",
    "    throw(ArgumentError(\"It is not possible to construct a `DataFrame` from \" *\n",
    "                        \"`$(typeof(x))` without allocating new columns: use \" *\n",
    "                        \"`DataFrame(x)` instead\"))\n",
    "\"\"\"\n",
    "function DataFrame(x::T; copycols::Bool=true) where {T}\n",
    "    if !Tables.istable(x)\n",
    "        if x isa AbstractVector && all(col -> isa(col, AbstractVector), x)\n",
    "            return DataFrame(Vector{AbstractVector}(x), copycols=copycols)\n",
    "        elseif (x isa AbstractVector || x isa Tuple) &&\n",
    "            all(v -> v isa Pair{Symbol, <:AbstractVector}, x)\n",
    "            return DataFrame(AbstractVector[last(v) for v in x], [first(v) for v in x],\n",
    "                             copycols=copycols)\n",
    "        end\n",
    "    end\n",
    "    cols = Tables.columns(x)\n",
    "    names = collect(Symbol, Tables.columnnames(cols))\n",
    "    return fromcolumns(cols, names, copycols=copycols)\n",
    "end\n",
    "\"\"\""
   ]
  },
  {
   "cell_type": "code",
   "execution_count": 16,
   "metadata": {},
   "outputs": [
    {
     "data": {
      "text/plain": [
       "DataFrame(AbstractArray{T,1} where T[[1, 3], [2, 4]], Index(Dict(:a => 1,:b => 2), [:a, :b]))"
      ]
     },
     "execution_count": 16,
     "metadata": {},
     "output_type": "execute_result"
    }
   ],
   "source": [
    "v = [(a=1, b=2), (a=3, b=4)]\n",
    "DataFrame(v)"
   ]
  },
  {
   "cell_type": "code",
   "execution_count": 25,
   "metadata": {},
   "outputs": [
    {
     "ename": "MethodError",
     "evalue": "MethodError: no method matching fromcolumns(::NamedTuple{(:a, :b),Tuple{UnitRange{Int64},UnitRange{Int64}}}, ::Array{Symbol,1}, ::Bool)\nClosest candidates are:\n  fromcolumns(::Any, ::Any; copycols) at In[14]:8\n  fromcolumns(!Matched::Tables.CopiedColumns, ::Any; copycols) at In[14]:4",
     "output_type": "error",
     "traceback": [
      "MethodError: no method matching fromcolumns(::NamedTuple{(:a, :b),Tuple{UnitRange{Int64},UnitRange{Int64}}}, ::Array{Symbol,1}, ::Bool)\nClosest candidates are:\n  fromcolumns(::Any, ::Any; copycols) at In[14]:8\n  fromcolumns(!Matched::Tables.CopiedColumns, ::Any; copycols) at In[14]:4",
      "",
      "Stacktrace:",
      " [1] top-level scope at In[25]:4"
     ]
    }
   ],
   "source": [
    "n = (a=1:3, b=11:13)\n",
    "cols = Tables.columns(n)\n",
    "names = collect(Symbol, Tables.columnnames(cols))\n",
    "fromcolumns(cols, names, true)"
   ]
  },
  {
   "cell_type": "code",
   "execution_count": 23,
   "metadata": {},
   "outputs": [
    {
     "data": {
      "text/plain": [
       "true"
      ]
     },
     "execution_count": 23,
     "metadata": {},
     "output_type": "execute_result"
    }
   ],
   "source": [
    "Tables.istable(n)"
   ]
  },
  {
   "cell_type": "code",
   "execution_count": 13,
   "metadata": {},
   "outputs": [
    {
     "data": {
      "text/plain": [
       "DataFrame(AbstractArray{T,1} where T[[1, 2], Bool[1, 0], ['a', 'b'], [3, 3], [[1, 1], [1, 1]]], Index(Dict(:A => 1,:B => 2,:E => 4,:fixed => 5,:C => 3), [:A, :B, :C, :E, :fixed]))"
      ]
     },
     "execution_count": 13,
     "metadata": {},
     "output_type": "execute_result"
    }
   ],
   "source": [
    "x = Dict(\"A\" => [1,2], \"B\" => [true, false], \"C\" => ['a', 'b'], \"fixed\" => Ref([1,1]), \"E\" => 3)\n",
    "DataFrame(x)"
   ]
  },
  {
   "attachments": {
    "image.png": {
     "image/png": "[encoded data removed]"
    }
   },
   "cell_type": "markdown",
   "metadata": {},
   "source": [
    "![image.png](attachment:image.png)"
   ]
  },
  {
   "cell_type": "code",
   "execution_count": 6,
   "metadata": {},
   "outputs": [
    {
     "data": {
      "text/plain": [
       "DataFrame(AbstractArray{T,1} where T[[1, 2], Bool[1, 0], ['a', 'b']], Index(Dict(:A => 1,:B => 2,:C => 3), [:A, :B, :C]))"
      ]
     },
     "execution_count": 6,
     "metadata": {},
     "output_type": "execute_result"
    }
   ],
   "source": [
    "DataFrame(:A => [1,2], :B => [true, false], :C => ['a', 'b'])\n",
    "DataFrame(\"A\" => [1,2], \"B\" => [true, false], \"C\" => ['a', 'b'])"
   ]
  },
  {
   "cell_type": "code",
   "execution_count": 7,
   "metadata": {},
   "outputs": [
    {
     "data": {
      "text/plain": [
       "DataFrame(AbstractArray{T,1} where T[], Index(Dict{Symbol,Int64}(), Symbol[]))"
      ]
     },
     "execution_count": 7,
     "metadata": {},
     "output_type": "execute_result"
    }
   ],
   "source": [
    "# 测试用格子\n",
    "DataFrame()"
   ]
  },
  {
   "cell_type": "code",
   "execution_count": 8,
   "metadata": {},
   "outputs": [
    {
     "data": {
      "text/plain": [
       "DataFrame(AbstractArray{T,1} where T[[1, 2, 3], [0.2739700053780385, 0.5249676727208521, 0.4173230733419666], [\"Y2Z\", \"1ce\", \"S8H\"], [1, 1, 1]], Index(Dict(:A => 1,:B => 2,:fixed => 4,:C => 3), [:A, :B, :C, :fixed]))"
      ]
     },
     "execution_count": 8,
     "metadata": {},
     "output_type": "execute_result"
    }
   ],
   "source": [
    "DataFrame(A=1:3, B = rand(3), C = randstring.([3,3,3]), fixed=1)"
   ]
  },
  {
   "cell_type": "code",
   "execution_count": 9,
   "metadata": {},
   "outputs": [
    {
     "data": {
      "text/plain": [
       "Index(Dict(:A => 1,:B => 2,:C => 3), [:A, :B, :C])"
      ]
     },
     "execution_count": 9,
     "metadata": {},
     "output_type": "execute_result"
    }
   ],
   "source": [
    "Index([:A, :B, :C])"
   ]
  },
  {
   "cell_type": "code",
   "execution_count": 10,
   "metadata": {},
   "outputs": [
    {
     "data": {
      "text/plain": [
       "5-element Array{Symbol,1}:\n",
       " :A\n",
       " :B\n",
       " :C\n",
       " :C_1\n",
       " :C_2"
      ]
     },
     "execution_count": 10,
     "metadata": {},
     "output_type": "execute_result"
    }
   ],
   "source": [
    "\n",
    "make_unique([:A, :B, :C, :C, :C], makeunique = true)"
   ]
  },
  {
   "cell_type": "code",
   "execution_count": 7,
   "metadata": {},
   "outputs": [
    {
     "data": {
      "text/plain": [
       "3-element Array{Symbol,1}:\n",
       " #undef\n",
       " #undef\n",
       " #undef"
      ]
     },
     "execution_count": 7,
     "metadata": {},
     "output_type": "execute_result"
    }
   ],
   "source": [
    "similar([:A, :B, :C])"
   ]
  },
  {
   "cell_type": "code",
   "execution_count": 15,
   "metadata": {},
   "outputs": [
    {
     "data": {
      "text/plain": [
       "3"
      ]
     },
     "execution_count": 15,
     "metadata": {},
     "output_type": "execute_result"
    }
   ],
   "source": [
    "length([1:3, rand(3), randstring.([3, 3, 3])])"
   ]
  },
  {
   "cell_type": "code",
   "execution_count": 16,
   "metadata": {},
   "outputs": [
    {
     "data": {
      "text/plain": [
       "5-element Array{Int64,1}:\n",
       " 1\n",
       " 2\n",
       " 3\n",
       " 4\n",
       " 5"
      ]
     },
     "execution_count": 16,
     "metadata": {},
     "output_type": "execute_result"
    }
   ],
   "source": [
    "collect(1:5)"
   ]
  },
  {
   "cell_type": "code",
   "execution_count": 7,
   "metadata": {},
   "outputs": [
    {
     "data": {
      "text/plain": [
       "4-element Array{Any,1}:\n",
       "  1:3\n",
       "  [0.5682089873340079, 0.7522527439869477, 0.3310326664575929]\n",
       "  [\"cey\", \"10R\", \"zvH\"]\n",
       " 1"
      ]
     },
     "execution_count": 7,
     "metadata": {},
     "output_type": "execute_result"
    }
   ],
   "source": [
    "\n",
    "DataFrame(A=1:3, B = rand(3), C = randstring.([3,3,3]), fixed=1)"
   ]
  },
  {
   "cell_type": "code",
   "execution_count": 16,
   "metadata": {},
   "outputs": [
    {
     "data": {
      "text/plain": [
       "DataFrame(AbstractArray{T,1} where T[[1, 2], Bool[1, 0], ['a', 'b'], [\"const\", \"const\"]], Index(Dict(:A => 1,:B => 2,:fixed => 4,:C => 3), [:A, :B, :C, :fixed]))"
      ]
     },
     "execution_count": 16,
     "metadata": {},
     "output_type": "execute_result"
    }
   ],
   "source": [
    "DataFrame([:A => [1,2], :B => [true, false], :C => ['a', 'b'], :fixed => \"const\"])"
   ]
  },
  {
   "cell_type": "code",
   "execution_count": 11,
   "metadata": {},
   "outputs": [
    {
     "data": {
      "text/plain": [
       "DataFrame(AbstractArray{T,1} where T[[0.8011303180320688, 0.028002009875943923, 0.5794336039929853], [0.9165361974149973, 0.4878499486420882, 0.8657550362876756], [0.7440283599740685, 0.6322208593216627, 0.5578281555374671]], Index(Dict(:x2 => 2,:x3 => 3,:x1 => 1), [:x1, :x2, :x3]))"
      ]
     },
     "execution_count": 11,
     "metadata": {},
     "output_type": "execute_result"
    }
   ],
   "source": [
    "DataFrame([rand(3) for i in 1:3])\n",
    "DataFrame([rand(3) for i in 1:3], [\"x1\", \"x2\", \"x3\"])"
   ]
  },
  {
   "cell_type": "code",
   "execution_count": 12,
   "metadata": {},
   "outputs": [
    {
     "ename": "MethodError",
     "evalue": "MethodError: no method matching DataFrame(::Array{NamedTuple{(:a, :b),Tuple{Int64,Int64}},1})\nClosest candidates are:\n  DataFrame(; kwargs...) at In[2]:61\n  DataFrame(!Matched::Union{Array{AbstractArray{T,1} where T,1}, Array{Any,1}}, !Matched::Index; copycols) at In[2]:9\n  DataFrame(!Matched::AbstractDict; copycols) at In[5]:5\n  ...",
     "output_type": "error",
     "traceback": [
      "MethodError: no method matching DataFrame(::Array{NamedTuple{(:a, :b),Tuple{Int64,Int64}},1})\nClosest candidates are:\n  DataFrame(; kwargs...) at In[2]:61\n  DataFrame(!Matched::Union{Array{AbstractArray{T,1} where T,1}, Array{Any,1}}, !Matched::Index; copycols) at In[2]:9\n  DataFrame(!Matched::AbstractDict; copycols) at In[5]:5\n  ...",
      "",
      "Stacktrace:",
      " [1] top-level scope at In[12]:2"
     ]
    }
   ],
   "source": [
    "v = [(a=1, b=2), (a=3, b=4)]\n",
    "DataFrame(v)"
   ]
  },
  {
   "cell_type": "code",
   "execution_count": 27,
   "metadata": {},
   "outputs": [
    {
     "data": {
      "text/plain": [
       "DataFrame(AbstractArray{T,1} where T[Int64[], Float64[], String[]], Index(Dict(:A => 1,:B => 2,:C => 3), [:A, :B, :C]))"
      ]
     },
     "execution_count": 27,
     "metadata": {},
     "output_type": "execute_result"
    }
   ],
   "source": [
    "DataFrame(A=Int[], B=Float64[], C=String[])"
   ]
  },
  {
   "cell_type": "code",
   "execution_count": 29,
   "metadata": {},
   "outputs": [
    {
     "data": {
      "text/plain": [
       "Tables.CopiedColumns{NamedTuple{(:a, :b),Tuple{Array{Int64,1},Array{Int64,1}}}}: (a = [1, 3], b = [2, 4])"
      ]
     },
     "execution_count": 29,
     "metadata": {},
     "output_type": "execute_result"
    }
   ],
   "source": [
    "Tables.columns(v)"
   ]
  },
  {
   "cell_type": "code",
   "execution_count": 31,
   "metadata": {},
   "outputs": [
    {
     "data": {
      "text/plain": [
       "Index(Dict(:a => 1,:b => 2,:d => 4,:c => 3), [:a, :b, :c, :d])"
      ]
     },
     "execution_count": 31,
     "metadata": {},
     "output_type": "execute_result"
    }
   ],
   "source": [
    "tem = DataFrame(rand(3,4), string.('a':'d'))\n",
    "tem.colindex"
   ]
  },
  {
   "attachments": {
    "image.png": {
     "image/png": "[encoded data removed]"
    }
   },
   "cell_type": "markdown",
   "metadata": {},
   "source": [
    "## 回顾基类\n",
    "> 文件组织\n",
    "![image.png](attachment:image.png)"
   ]
  },
  {
   "cell_type": "code",
   "execution_count": 42,
   "metadata": {},
   "outputs": [
    {
     "ename": "UndefVarError",
     "evalue": "UndefVarError: Not not defined",
     "output_type": "error",
     "traceback": [
      "UndefVarError: Not not defined",
      "",
      "Stacktrace:",
      " [1] top-level scope at In[42]:4"
     ]
    }
   ],
   "source": [
    "# 3.getindex\n",
    "#const SymbolOrString = Union{Symbol, AbstractString}\n",
    "const ColumnIndex = Union{Signed, Unsigned, SymbolOrString}\n",
    "const MultiColumnIndex = Union{AbstractVector, Regex, Not, Between, All, Colon}\n",
    "const MULTICOLUMNINDEX_TUPLE = (:AbstractVector, :Regex, :Not, :Between, :All, :Colon)\n",
    "\n",
    "const COLUMNINDEX_STR = \"`Symbol`, string or integer\"\n",
    "const MULTICOLUMNINDEX_STR = \"`:`, `All`, `Between`, `Not`, a regular expression,\" *\n",
    "                          \" or a vector of `Symbol`s, strings or integers\"\n",
    "\n",
    "# df[SingleRowIndex, SingleColumnIndex] => Scalar\n",
    "@inline function Base.getindex(df::DataFrame, row_ind::Integer,\n",
    "                               col_ind::Union{Signed, Unsigned})\n",
    "    cols = _columns(df)\n",
    "    @boundscheck begin\n",
    "        if !checkindex(Bool, axes(cols, 1), col_ind)\n",
    "            throw(BoundsError(df, (row_ind, col_ind)))\n",
    "        end\n",
    "        if !checkindex(Bool, axes(df, 1), row_ind)\n",
    "            throw(BoundsError(df, (row_ind, col_ind)))\n",
    "        end\n",
    "    end\n",
    "\n",
    "    @inbounds cols[col_ind][row_ind]\n",
    "end\n",
    "\n",
    "@inline function Base.getindex(df::DataFrame, row_ind::Integer,\n",
    "                               col_ind::SymbolOrString)\n",
    "    selected_column = index(df)[col_ind]\n",
    "    @boundscheck if !checkindex(Bool, axes(df, 1), row_ind)\n",
    "        throw(BoundsError(df, (row_ind, col_ind)))\n",
    "    end\n",
    "    @inbounds _columns(df)[selected_column][row_ind]\n",
    "end\n",
    "\n",
    "# df[MultiRowIndex, SingleColumnIndex] => AbstractVector, copy\n",
    "@inline function Base.getindex(df::DataFrame, row_inds::AbstractVector, col_ind::ColumnIndex)\n",
    "    selected_column = index(df)[col_ind]\n",
    "    @boundscheck if !checkindex(Bool, axes(df, 1), row_inds)\n",
    "        throw(BoundsError(df, (row_inds, col_ind)))\n",
    "    end\n",
    "    @inbounds return _columns(df)[selected_column][row_inds]\n",
    "end\n",
    "\n",
    "@inline Base.getindex(df::DataFrame, row_inds::Not, col_ind::ColumnIndex) =\n",
    "    df[axes(df, 1)[row_inds], col_ind]\n",
    "\n",
    "# df[:, SingleColumnIndex] => AbstractVector\n",
    "function Base.getindex(df::DataFrame, row_inds::Colon, col_ind::ColumnIndex)\n",
    "    selected_column = index(df)[col_ind]\n",
    "    copy(_columns(df)[selected_column])\n",
    "end\n",
    "\n",
    "# df[!, SingleColumnIndex] => AbstractVector, the same vector\n",
    "@inline function Base.getindex(df::DataFrame, ::typeof(!), col_ind::Union{Signed, Unsigned})\n",
    "    cols = _columns(df)\n",
    "    @boundscheck if !checkindex(Bool, axes(cols, 1), col_ind)\n",
    "        throw(BoundsError(df, (!, col_ind)))\n",
    "    end\n",
    "    @inbounds cols[col_ind]\n",
    "end\n",
    "\n",
    "function Base.getindex(df::DataFrame, ::typeof(!), col_ind::SymbolOrString)\n",
    "    selected_column = index(df)[col_ind]\n",
    "    return _columns(df)[selected_column]\n",
    "end\n",
    "\n",
    "# df[MultiRowIndex, MultiColumnIndex] => DataFrame\n",
    "@inline function Base.getindex(df::DataFrame, row_inds::AbstractVector{T},\n",
    "                               col_inds::MultiColumnIndex) where T\n",
    "    @boundscheck if !checkindex(Bool, axes(df, 1), row_inds)\n",
    "        throw(BoundsError(df, (row_inds, col_inds)))\n",
    "    end\n",
    "    selected_columns = index(df)[col_inds]\n",
    "    # Computing integer indices once for all columns is faster\n",
    "    selected_rows = T === Bool ? findall(row_inds) : row_inds\n",
    "    new_columns = AbstractVector[dv[selected_rows] for dv in _columns(df)[selected_columns]]\n",
    "    return DataFrame(new_columns, Index(_names(df)[selected_columns]), copycols=false)\n",
    "end\n",
    "\n",
    "@inline function Base.getindex(df::DataFrame, row_inds::AbstractVector{T}, ::Colon) where T\n",
    "    @boundscheck if !checkindex(Bool, axes(df, 1), row_inds)\n",
    "        throw(BoundsError(df, (row_inds, :)))\n",
    "    end\n",
    "    # Computing integer indices once for all columns is faster\n",
    "    selected_rows = T === Bool ? findall(row_inds) : row_inds\n",
    "    new_columns = AbstractVector[dv[selected_rows] for dv in _columns(df)]\n",
    "    return DataFrame(new_columns, copy(index(df)), copycols=false)\n",
    "end\n",
    "\n",
    "@inline Base.getindex(df::DataFrame, row_inds::Not,\n",
    "                      col_inds::MultiColumnIndex) =\n",
    "    df[axes(df, 1)[row_inds], col_inds]\n",
    "\n",
    "# df[:, MultiColumnIndex] => DataFrame\n",
    "Base.getindex(df::DataFrame, row_ind::Colon,\n",
    "              col_inds::MultiColumnIndex) =\n",
    "    select(df, col_inds, copycols=true)\n",
    "\n",
    "# df[!, MultiColumnIndex] => DataFrame\n",
    "Base.getindex(df::DataFrame, row_ind::typeof(!),\n",
    "              col_inds::MultiColumnIndex) =\n",
    "    select(df, col_inds, copycols=false)"
   ]
  },
  {
   "cell_type": "code",
   "execution_count": null,
   "metadata": {},
   "outputs": [],
   "source": [
    "# 其他的重要的dataframe方法\n",
    "\n",
    "# 1.获取属性\n",
    "index(df::DataFrame) = getfield(df, :colindex)\n",
    "_columns(df::DataFrame) = getfield(df, :columns)\n",
    "\n",
    "# 2.行数和列数\n",
    "nrow(df::DataFrame) = ncol(df) > 0 ? length(_columns(df)[1])::Int : 0\n",
    "ncol(df::DataFrame) = length(index(df))\n",
    "\n",
    "#暂且跳过一致性检验(dataframe.jl 351)\n",
    "\n",
    "# 3.getindex\n",
    "\n",
    "\n",
    "\n",
    "# x.复制方法\n",
    "function Base.copy(df::DataFrame; copycols::Bool=true)\n",
    "    if copycols\n",
    "        df[:, :]\n",
    "    else\n",
    "        DataFrame(eachcol(df), _names(df), copycols=false)\n",
    "    end\n",
    "end\n",
    "\n"
   ]
  },
  {
   "cell_type": "code",
   "execution_count": 36,
   "metadata": {},
   "outputs": [
    {
     "data": {
      "text/plain": [
       "Index(Dict(:a => 1,:b => 2), [:a, :b])"
      ]
     },
     "execution_count": 36,
     "metadata": {},
     "output_type": "execute_result"
    }
   ],
   "source": [
    "x = DataFrame(a=1:2, b='a':'b')\n",
    "getfield(x, :colindex)\n",
    "#y = copy(x)"
   ]
  },
  {
   "cell_type": "code",
   "execution_count": null,
   "metadata": {},
   "outputs": [],
   "source": []
  }
 ],
 "metadata": {
  "kernelspec": {
   "display_name": "Julia 1.4.2",
   "language": "julia",
   "name": "julia-1.4"
  },
  "language_info": {
   "file_extension": ".jl",
   "mimetype": "application/julia",
   "name": "julia",
   "version": "1.4.2"
  }
 },
 "nbformat": 4,
 "nbformat_minor": 4
}
