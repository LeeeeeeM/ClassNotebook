{
 "cells": [
  {
   "cell_type": "code",
   "execution_count": 40,
   "metadata": {},
   "outputs": [],
   "source": [
    "# \n",
    "abstract type AbstractIndex end\n",
    "\n",
    "struct Index <: AbstractIndex\n",
    "    lookup::Dict{Symbol, Int}\n",
    "    names::Vector{Symbol}\n",
    "end\n",
    "\n",
    "function Index(names::AbstractVector{Symbol}; makeunique::Bool=false)\n",
    "    u = make_unique(names, makeunique=makeunique)\n",
    "    lookup = Dict{Symbol, Int}(zip(u, 1:length(u)))\n",
    "    return Index(lookup, u)\n",
    "end\n",
    "\n",
    "Index() = Index(Dict{Symbol, Int}(), Symbol[])\n",
    "Base.length(x::Index) = length(x.names)\n",
    "Base.names(x::Index) = string.(x.names)"
   ]
  },
  {
   "cell_type": "code",
   "execution_count": 43,
   "metadata": {},
   "outputs": [
    {
     "data": {
      "text/plain": [
       "DataFrame"
      ]
     },
     "execution_count": 43,
     "metadata": {},
     "output_type": "execute_result"
    }
   ],
   "source": [
    "abstract type AbstractDataFrame end\n",
    "struct DataFrame <: AbstractDataFrame\n",
    "    columns::Vector{AbstractVector}\n",
    "    colindex::Index\n",
    "    \n",
    "    #内部构造器\n",
    "    function DataFrame(columns::Union{Vector{Any}, Vector{AbstractVector}},\n",
    "        colindex::Index; copycols::Bool=true)\n",
    "        if length(columns) == length(colindex) == 0\n",
    "            return new(AbstractVector[], Index())\n",
    "        elseif length(columns) != length(colindex)\n",
    "            throw(DimensionMismatch(\"Number of columns ($(length(columns))) and number of\" *\n",
    "                    \" column names($(length(colindex)) are not equal\"))\n",
    "        end\n",
    "        \n",
    "        len = -1\n",
    "        firstvec = -1\n",
    "        for (i, col) in enumerate(columns)\n",
    "            if col isa AbstractVector\n",
    "                if len == -1\n",
    "                    len = length(col)\n",
    "                    firstvec = i\n",
    "                elseif len != length(col)\n",
    "                    n1 = _names(colindex)[firstvec]\n",
    "                    n2 = _names(colindex)[i]\n",
    "                    throw(DimensionMismatch(\"column :$n1 has length $len and column \" *\n",
    "                                            \":$n2 has length $(length(col))\"))\n",
    "                end\n",
    "            end\n",
    "        end\n",
    "        len == -1 && (len = 1)\n",
    "\n",
    "        # we write into columns as we know that it is guaranteed\n",
    "        # that it was freshly allocated in the outer constructor\n",
    "        for (i, col) in enumerate(columns)\n",
    "            # check for vectors first as they are most common\n",
    "            if col isa AbstractRange\n",
    "                columns[i] = collect(col)\n",
    "            elseif col isa AbstractVector\n",
    "                columns[i] = copycols ? copy(col) : col\n",
    "            elseif col isa Union{AbstractArray{<:Any, 0}, Ref}\n",
    "                x = col[]\n",
    "                columns[i] = fill!(Tables.allocatecolumn(typeof(x), len), x)\n",
    "            else\n",
    "                if col isa AbstractArray\n",
    "                    throw(ArgumentError(\"adding AbstractArray other than AbstractVector\" *\n",
    "                                        \" as a column of a data frame is not allowed\"))\n",
    "                end\n",
    "                columns[i] = fill!(Tables.allocatecolumn(typeof(col), len), col)\n",
    "            end\n",
    "        end\n",
    "\n",
    "        new(convert(Vector{AbstractVector}, columns), colindex)\n",
    "    end\n",
    "end\n",
    "\n",
    "function DataFrame(; kwargs...)\n",
    "    if isempty(kwargs)\n",
    "        DataFrame([], Index())\n",
    "    else\n",
    "        cnames = Symbol[]\n",
    "        columns = Any[]\n",
    "        copycols = true\n",
    "        for (kw, val) in kwargs\n",
    "            if kw == :copycols\n",
    "                if val isa Bool\n",
    "                    copycols = val\n",
    "                else\n",
    "                    throw(ArgumentError(\"the `copycols` keyword argument must be Boolean\"))\n",
    "                end\n",
    "            else\n",
    "                push!(cnames, kw)\n",
    "                push!(columns, val)\n",
    "            end\n",
    "        end\n",
    "        DataFrame(columns, Index(cnames), copycols=copycols)\n",
    "    end\n",
    "end\n",
    "\n"
   ]
  },
  {
   "cell_type": "code",
   "execution_count": 44,
   "metadata": {},
   "outputs": [
    {
     "data": {
      "text/plain": [
       "DataFrame(AbstractArray{T,1} where T[], Index(Dict{Symbol,Int64}(), Symbol[]))"
      ]
     },
     "execution_count": 44,
     "metadata": {},
     "output_type": "execute_result"
    }
   ],
   "source": [
    "# 测试用格子\n",
    "DataFrame()"
   ]
  },
  {
   "cell_type": "code",
   "execution_count": 45,
   "metadata": {},
   "outputs": [
    {
     "ename": "UndefVarError",
     "evalue": "UndefVarError: make_unique not defined",
     "output_type": "error",
     "traceback": [
      "UndefVarError: make_unique not defined",
      "",
      "Stacktrace:",
      " [1] Index(::Array{Symbol,1}; makeunique::Bool) at .\\In[40]:10",
      " [2] Index at .\\In[40]:10 [inlined]",
      " [3] DataFrame(; kwargs::Base.Iterators.Pairs{Symbol,Any,NTuple{4,Symbol},NamedTuple{(:A, :B, :C, :fixed),Tuple{UnitRange{Int64},Array{Float64,1},Array{String,1},Int64}}}) at .\\In[43]:76",
      " [4] top-level scope at In[45]:2"
     ]
    }
   ],
   "source": [
    "using Random\n",
    "DataFrame(A=1:3, B = rand(3), C = randstring.([3,3,3]), fixed=1)"
   ]
  },
  {
   "cell_type": "code",
   "execution_count": 38,
   "metadata": {},
   "outputs": [
    {
     "data": {
      "text/plain": [
       "-1"
      ]
     },
     "execution_count": 38,
     "metadata": {},
     "output_type": "execute_result"
    }
   ],
   "source": [
    "true && (len = -1)"
   ]
  },
  {
   "cell_type": "code",
   "execution_count": 39,
   "metadata": {},
   "outputs": [
    {
     "data": {
      "text/plain": [
       "-1"
      ]
     },
     "execution_count": 39,
     "metadata": {},
     "output_type": "execute_result"
    }
   ],
   "source": [
    "len"
   ]
  },
  {
   "cell_type": "code",
   "execution_count": null,
   "metadata": {},
   "outputs": [],
   "source": []
  }
 ],
 "metadata": {
  "kernelspec": {
   "display_name": "Julia 1.4.2",
   "language": "julia",
   "name": "julia-1.4"
  },
  "language_info": {
   "file_extension": ".jl",
   "mimetype": "application/julia",
   "name": "julia",
   "version": "1.4.2"
  }
 },
 "nbformat": 4,
 "nbformat_minor": 4
}
