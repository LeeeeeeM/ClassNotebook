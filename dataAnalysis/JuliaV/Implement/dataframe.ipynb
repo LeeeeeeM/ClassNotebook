{
 "cells": [
  {
   "cell_type": "code",
   "execution_count": 2,
   "metadata": {},
   "outputs": [],
   "source": [
    "# \n",
    "abstract type AbstractIndex end\n",
    "\n",
    "struct Index <: AbstractIndex\n",
    "    lookup::Dict{Symbol, Int}\n",
    "    names::Vector{Symbol}\n",
    "end\n",
    "\n",
    "function Index(names::AbstractVector{Symbol}; makeunique::Bool=false)\n",
    "    u = make_unique(names, makeunique=makeunique)\n",
    "    lookup = Dict{Symbol, Int}(zip(u, 1:length(u)))\n",
    "    return Index(lookup, u)\n",
    "end\n",
    "\n",
    "Index() = Index(Dict{Symbol, Int}(),Symbol[])\n",
    "Base.length(x::Index) = length(x.names)\n",
    "Base.names(x::Index) = string.(x.names)"
   ]
  },
  {
   "cell_type": "code",
   "execution_count": null,
   "metadata": {},
   "outputs": [],
   "source": [
    "abstract type AbstractDataFrame end\n",
    "struct DataFrame <: AbstractDataFrame\n",
    "    columns::Vector{AbstractVector}\n",
    "    colindex::Index\n",
    "    \n",
    "    #内部构造器\n",
    "    function DataFrame(columns::Union{Vector{Any}, Vector{AbstractVector}},\n",
    "        colindex::Index; copycols::Bool=true)\n",
    "        if length(columns) == length(colindex) == 0\n",
    "            return new(AbstractVector[], Index())\n",
    "        elseif length(columns) != "
   ]
  },
  {
   "cell_type": "code",
   "execution_count": null,
   "metadata": {},
   "outputs": [],
   "source": [
    "# 测试用格子\n",
    "DataFrame()"
   ]
  },
  {
   "cell_type": "code",
   "execution_count": 3,
   "metadata": {},
   "outputs": [
    {
     "ename": "MethodError",
     "evalue": "MethodError: no method matching Index()\nClosest candidates are:\n  Index(!Matched::Dict{Symbol,Int64}, !Matched::Array{Symbol,1}) at In[2]:5\n  Index(!Matched::Any, !Matched::Any) at In[2]:5",
     "output_type": "error",
     "traceback": [
      "MethodError: no method matching Index()\nClosest candidates are:\n  Index(!Matched::Dict{Symbol,Int64}, !Matched::Array{Symbol,1}) at In[2]:5\n  Index(!Matched::Any, !Matched::Any) at In[2]:5",
      "",
      "Stacktrace:",
      " [1] top-level scope at In[3]:1"
     ]
    }
   ],
   "source": [
    "Index()"
   ]
  },
  {
   "cell_type": "code",
   "execution_count": null,
   "metadata": {},
   "outputs": [],
   "source": []
  }
 ],
 "metadata": {
  "kernelspec": {
   "display_name": "Julia 1.4.2",
   "language": "julia",
   "name": "julia-1.4"
  },
  "language_info": {
   "file_extension": ".jl",
   "mimetype": "application/julia",
   "name": "julia",
   "version": "1.4.2"
  }
 },
 "nbformat": 4,
 "nbformat_minor": 4
}
