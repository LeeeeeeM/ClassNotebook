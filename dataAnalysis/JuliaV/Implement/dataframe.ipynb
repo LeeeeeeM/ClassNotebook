{
 "cells": [
  {
   "cell_type": "code",
   "execution_count": 2,
   "metadata": {},
   "outputs": [
    {
     "data": {
      "text/plain": [
       "make_unique! (generic function with 1 method)"
      ]
     },
     "execution_count": 2,
     "metadata": {},
     "output_type": "execute_result"
    }
   ],
   "source": [
    "# \n",
    "using TableTraits\n",
    "import Tables,Tables.columnindex\n",
    "using Random\n",
    "abstract type AbstractIndex end\n",
    "\n",
    "struct Index <: AbstractIndex\n",
    "    lookup::Dict{Symbol, Int}\n",
    "    names::Vector{Symbol}\n",
    "end\n",
    "\n",
    "function Index(names::AbstractVector{Symbol}; makeunique::Bool=false)\n",
    "    u = make_unique(names, makeunique=makeunique)\n",
    "    lookup = Dict{Symbol, Int}(zip(u, 1:length(u)))\n",
    "    return Index(lookup, u)\n",
    "end\n",
    "\n",
    "Index() = Index(Dict{Symbol, Int}(), Symbol[])\n",
    "Base.length(x::Index) = length(x.names)\n",
    "Base.names(x::Index) = string.(x.names)\n",
    "\n",
    "#make_unique方法\n",
    "function make_unique(names::AbstractVector{Symbol}; makeunique::Bool=false)\n",
    "    make_unique!(similar(names), names, makeunique=makeunique)\n",
    "end\n",
    "\n",
    "function make_unique!(names::Vector{Symbol}, src::AbstractVector{Symbol};\n",
    "                      makeunique::Bool=false)\n",
    "    if length(names) != length(src)\n",
    "        throw(DimensionMismatch(\"Length of src doesn't match length of names.\"))\n",
    "    end\n",
    "    seen = Set{Symbol}()\n",
    "    dups = Int[]\n",
    "    for i in 1:length(names)\n",
    "        name = src[i]\n",
    "        if in(name, seen)\n",
    "            push!(dups, i)\n",
    "        else\n",
    "            names[i] = src[i]\n",
    "            push!(seen, name)\n",
    "        end\n",
    "    end\n",
    "\n",
    "    if length(dups) > 0\n",
    "        if !makeunique\n",
    "            dupstr = join(string.(':', unique(src[dups])), \", \", \" and \")\n",
    "            msg = \"Duplicate variable names: $dupstr. Pass makeunique=true \" *\n",
    "                  \"to make them unique using a suffix automatically.\"\n",
    "            throw(ArgumentError(msg))\n",
    "        end\n",
    "    end\n",
    "\n",
    "    for i in dups\n",
    "        nm = src[i]\n",
    "        k = 1\n",
    "        while true\n",
    "            newnm = Symbol(\"$(nm)_$k\")\n",
    "            if !in(newnm, seen)\n",
    "                #如果已有已经见过的里面没有newnm的话...\n",
    "                names[i] = newnm\n",
    "                push!(seen, newnm)\n",
    "                break\n",
    "            end\n",
    "            k += 1\n",
    "        end\n",
    "    end\n",
    "\n",
    "    return names\n",
    "end"
   ]
  },
  {
   "cell_type": "code",
   "execution_count": 3,
   "metadata": {},
   "outputs": [
    {
     "data": {
      "text/plain": [
       "DataFrame"
      ]
     },
     "execution_count": 3,
     "metadata": {},
     "output_type": "execute_result"
    }
   ],
   "source": [
    "abstract type AbstractDataFrame end\n",
    "struct DataFrame <: AbstractDataFrame\n",
    "    columns::Vector{AbstractVector}\n",
    "    colindex::Index\n",
    "    \n",
    "    #内部构造器\n",
    "    function DataFrame(columns::Union{Vector{Any}, Vector{AbstractVector}},\n",
    "        colindex::Index; copycols::Bool=true)\n",
    "        if length(columns) == length(colindex) == 0\n",
    "            return new(AbstractVector[], Index())\n",
    "        elseif length(columns) != length(colindex)\n",
    "            throw(DimensionMismatch(\"Number of columns ($(length(columns))) and number of\" *\n",
    "                    \" column names($(length(colindex)) are not equal\"))\n",
    "        end\n",
    "        \n",
    "        len = -1\n",
    "        firstvec = -1\n",
    "        # 判断每个向量的长度是否相等（逐行迭代过去）\n",
    "        for (i, col) in enumerate(columns)\n",
    "            if col isa AbstractVector\n",
    "                if len == -1\n",
    "                    len = length(col)\n",
    "                    firstvec = i\n",
    "                elseif len != length(col)\n",
    "                    n1 = _names(colindex)[firstvec]\n",
    "                    n2 = _names(colindex)[i]\n",
    "                    throw(DimensionMismatch(\"column :$n1 has length $len and column \" *\n",
    "                                            \":$n2 has length $(length(col))\"))\n",
    "                end\n",
    "            end\n",
    "        end\n",
    "        # 如果len长度并没有边，那么说明，生成的是一个标量\n",
    "        len == -1 && (len = 1)\n",
    "\n",
    "        # we write into columns as we know that it is guaranteed\n",
    "        # that it was freshly allocated in the outer constructor\n",
    "        for (i, col) in enumerate(columns)\n",
    "            # check for vectors first as they are most common\n",
    "            if col isa AbstractRange\n",
    "                columns[i] = collect(col)\n",
    "            elseif col isa AbstractVector\n",
    "                columns[i] = copycols ? copy(col) : col\n",
    "            elseif col isa Union{AbstractArray{<:Any, 0}, Ref}\n",
    "                x = col[]\n",
    "                columns[i] = fill!(Tables.allocatecolumn(typeof(x), len), x)\n",
    "            else\n",
    "                if col isa AbstractArray\n",
    "                    throw(ArgumentError(\"adding AbstractArray other than AbstractVector\" *\n",
    "                                        \" as a column of a data frame is not allowed\"))\n",
    "                end\n",
    "                columns[i] = fill!(Tables.allocatecolumn(typeof(col), len), col)\n",
    "            end\n",
    "        end\n",
    "\n",
    "        new(convert(Vector{AbstractVector}, columns), colindex)\n",
    "    end\n",
    "end\n",
    "\n",
    "#参数和值，装箱\n",
    "function DataFrame(; kwargs...)\n",
    "    if isempty(kwargs)\n",
    "        DataFrame([], Index())\n",
    "    else\n",
    "        cnames = Symbol[]\n",
    "        columns = Any[]\n",
    "        copycols = true\n",
    "        for (kw, val) in kwargs\n",
    "            if kw == :copycols\n",
    "                if val isa Bool\n",
    "                    copycols = val\n",
    "                else\n",
    "                    throw(ArgumentError(\"the `copycols` keyword argument must be Boolean\"))\n",
    "                end\n",
    "            else\n",
    "                push!(cnames, kw)\n",
    "                push!(columns, val)\n",
    "            end\n",
    "        end\n",
    "        DataFrame(columns, Index(cnames), copycols=copycols)\n",
    "    end\n",
    "end\n",
    "\n"
   ]
  },
  {
   "cell_type": "code",
   "execution_count": 44,
   "metadata": {},
   "outputs": [
    {
     "data": {
      "text/plain": [
       "DataFrame(AbstractArray{T,1} where T[], Index(Dict{Symbol,Int64}(), Symbol[]))"
      ]
     },
     "execution_count": 44,
     "metadata": {},
     "output_type": "execute_result"
    }
   ],
   "source": [
    "# 测试用格子\n",
    "DataFrame()"
   ]
  },
  {
   "cell_type": "code",
   "execution_count": 4,
   "metadata": {},
   "outputs": [
    {
     "data": {
      "text/plain": [
       "DataFrame(AbstractArray{T,1} where T[[1, 2, 3], [0.5761526842049325, 0.9671776961923351, 0.9111501231997625], [\"U9j\", \"2Vp\", \"4TS\"], [1, 1, 1]], Index(Dict(:A => 1,:B => 2,:fixed => 4,:C => 3), [:A, :B, :C, :fixed]))"
      ]
     },
     "execution_count": 4,
     "metadata": {},
     "output_type": "execute_result"
    }
   ],
   "source": [
    "DataFrame(A=1:3, B = rand(3), C = randstring.([3,3,3]), fixed=1)"
   ]
  },
  {
   "cell_type": "code",
   "execution_count": 3,
   "metadata": {},
   "outputs": [
    {
     "data": {
      "text/plain": [
       "Index(Dict(:A => 1,:B => 2,:C => 3), [:A, :B, :C])"
      ]
     },
     "execution_count": 3,
     "metadata": {},
     "output_type": "execute_result"
    }
   ],
   "source": [
    "Index([:A, :B, :C])"
   ]
  },
  {
   "cell_type": "code",
   "execution_count": 12,
   "metadata": {},
   "outputs": [
    {
     "data": {
      "text/plain": [
       "5-element Array{Symbol,1}:\n",
       " :A\n",
       " :B\n",
       " :C\n",
       " :C_1\n",
       " :C_2"
      ]
     },
     "execution_count": 12,
     "metadata": {},
     "output_type": "execute_result"
    }
   ],
   "source": [
    "\n",
    "make_unique([:A, :B, :C, :C, :C], makeunique = true)"
   ]
  },
  {
   "cell_type": "code",
   "execution_count": 7,
   "metadata": {},
   "outputs": [
    {
     "data": {
      "text/plain": [
       "3-element Array{Symbol,1}:\n",
       " #undef\n",
       " #undef\n",
       " #undef"
      ]
     },
     "execution_count": 7,
     "metadata": {},
     "output_type": "execute_result"
    }
   ],
   "source": [
    "similar([:A, :B, :C])"
   ]
  },
  {
   "cell_type": "code",
   "execution_count": 15,
   "metadata": {},
   "outputs": [
    {
     "data": {
      "text/plain": [
       "3"
      ]
     },
     "execution_count": 15,
     "metadata": {},
     "output_type": "execute_result"
    }
   ],
   "source": [
    "length([1:3, rand(3), randstring.([3, 3, 3])])"
   ]
  },
  {
   "cell_type": "code",
   "execution_count": 16,
   "metadata": {},
   "outputs": [
    {
     "data": {
      "text/plain": [
       "5-element Array{Int64,1}:\n",
       " 1\n",
       " 2\n",
       " 3\n",
       " 4\n",
       " 5"
      ]
     },
     "execution_count": 16,
     "metadata": {},
     "output_type": "execute_result"
    }
   ],
   "source": [
    "collect(1:5)"
   ]
  },
  {
   "cell_type": "code",
   "execution_count": 7,
   "metadata": {},
   "outputs": [
    {
     "data": {
      "text/plain": [
       "4-element Array{Any,1}:\n",
       "  1:3\n",
       "  [0.5682089873340079, 0.7522527439869477, 0.3310326664575929]\n",
       "  [\"cey\", \"10R\", \"zvH\"]\n",
       " 1"
      ]
     },
     "execution_count": 7,
     "metadata": {},
     "output_type": "execute_result"
    }
   ],
   "source": [
    "function DataFrame(; kwargs...)\n",
    "    if isempty(kwargs)\n",
    "        DataFrame([], Index())\n",
    "    else\n",
    "        cnames = Symbol[]\n",
    "        columns = Any[]\n",
    "        copycols = true\n",
    "        for (kw, val) in kwargs\n",
    "            if kw == :copycols\n",
    "                if val isa Bool\n",
    "                    copycols = val\n",
    "                else\n",
    "                    throw(ArgumentError(\"the `copycols` keyword argument must be Boolean\"))\n",
    "                end\n",
    "            else\n",
    "                push!(cnames, kw)\n",
    "                push!(columns, val)\n",
    "            end\n",
    "        end\n",
    "        columns\n",
    "    end\n",
    "end\n",
    "\n",
    "DataFrame(A=1:3, B = rand(3), C = randstring.([3,3,3]), fixed=1)"
   ]
  },
  {
   "cell_type": "code",
   "execution_count": 5,
   "metadata": {},
   "outputs": [
    {
     "data": {
      "text/plain": [
       "false"
      ]
     },
     "execution_count": 5,
     "metadata": {},
     "output_type": "execute_result"
    }
   ],
   "source": [
    "1 isa AbstractArray"
   ]
  },
  {
   "cell_type": "code",
   "execution_count": null,
   "metadata": {},
   "outputs": [],
   "source": []
  }
 ],
 "metadata": {
  "kernelspec": {
   "display_name": "Julia 1.4.2",
   "language": "julia",
   "name": "julia-1.4"
  },
  "language_info": {
   "file_extension": ".jl",
   "mimetype": "application/julia",
   "name": "julia",
   "version": "1.4.2"
  }
 },
 "nbformat": 4,
 "nbformat_minor": 4
}
